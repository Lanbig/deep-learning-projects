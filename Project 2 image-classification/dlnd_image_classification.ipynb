{
 "cells": [
  {
   "cell_type": "markdown",
   "metadata": {
    "collapsed": true,
    "deletable": true,
    "editable": true
   },
   "source": [
    "# Image Classification\n",
    "In this project, you'll classify images from the [CIFAR-10 dataset](https://www.cs.toronto.edu/~kriz/cifar.html).  The dataset consists of airplanes, dogs, cats, and other objects. You'll preprocess the images, then train a convolutional neural network on all the samples. The images need to be normalized and the labels need to be one-hot encoded.  You'll get to apply what you learned and build a convolutional, max pooling, dropout, and fully connected layers.  At the end, you'll get to see your neural network's predictions on the sample images.\n",
    "## Get the Data\n",
    "Run the following cell to download the [CIFAR-10 dataset for python](https://www.cs.toronto.edu/~kriz/cifar-10-python.tar.gz)."
   ]
  },
  {
   "cell_type": "code",
   "execution_count": 1,
   "metadata": {
    "collapsed": false,
    "deletable": true,
    "editable": true
   },
   "outputs": [
    {
     "name": "stdout",
     "output_type": "stream",
     "text": [
      "All files found!\n"
     ]
    }
   ],
   "source": [
    "\"\"\"\n",
    "DON'T MODIFY ANYTHING IN THIS CELL THAT IS BELOW THIS LINE\n",
    "\"\"\"\n",
    "from urllib.request import urlretrieve\n",
    "from os.path import isfile, isdir\n",
    "from tqdm import tqdm\n",
    "import problem_unittests as tests\n",
    "import tarfile\n",
    "\n",
    "cifar10_dataset_folder_path = 'cifar-10-batches-py'\n",
    "\n",
    "# Use Floyd's cifar-10 dataset if present\n",
    "floyd_cifar10_location = '/input/cifar-10/python.tar.gz'\n",
    "if isfile(floyd_cifar10_location):\n",
    "    tar_gz_path = floyd_cifar10_location\n",
    "else:\n",
    "    tar_gz_path = 'cifar-10-python.tar.gz'\n",
    "\n",
    "class DLProgress(tqdm):\n",
    "    last_block = 0\n",
    "\n",
    "    def hook(self, block_num=1, block_size=1, total_size=None):\n",
    "        self.total = total_size\n",
    "        self.update((block_num - self.last_block) * block_size)\n",
    "        self.last_block = block_num\n",
    "\n",
    "if not isfile(tar_gz_path):\n",
    "    with DLProgress(unit='B', unit_scale=True, miniters=1, desc='CIFAR-10 Dataset') as pbar:\n",
    "        urlretrieve(\n",
    "            'https://www.cs.toronto.edu/~kriz/cifar-10-python.tar.gz',\n",
    "            tar_gz_path,\n",
    "            pbar.hook)\n",
    "\n",
    "if not isdir(cifar10_dataset_folder_path):\n",
    "    with tarfile.open(tar_gz_path) as tar:\n",
    "        tar.extractall()\n",
    "        tar.close()\n",
    "\n",
    "\n",
    "tests.test_folder_path(cifar10_dataset_folder_path)"
   ]
  },
  {
   "cell_type": "markdown",
   "metadata": {
    "deletable": true,
    "editable": true
   },
   "source": [
    "## Explore the Data\n",
    "The dataset is broken into batches to prevent your machine from running out of memory.  The CIFAR-10 dataset consists of 5 batches, named `data_batch_1`, `data_batch_2`, etc.. Each batch contains the labels and images that are one of the following:\n",
    "* airplane\n",
    "* automobile\n",
    "* bird\n",
    "* cat\n",
    "* deer\n",
    "* dog\n",
    "* frog\n",
    "* horse\n",
    "* ship\n",
    "* truck\n",
    "\n",
    "Understanding a dataset is part of making predictions on the data.  Play around with the code cell below by changing the `batch_id` and `sample_id`. The `batch_id` is the id for a batch (1-5). The `sample_id` is the id for a image and label pair in the batch.\n",
    "\n",
    "Ask yourself \"What are all possible labels?\", \"What is the range of values for the image data?\", \"Are the labels in order or random?\".  Answers to questions like these will help you preprocess the data and end up with better predictions."
   ]
  },
  {
   "cell_type": "code",
   "execution_count": 2,
   "metadata": {
    "collapsed": false,
    "deletable": true,
    "editable": true
   },
   "outputs": [
    {
     "name": "stdout",
     "output_type": "stream",
     "text": [
      "\n",
      "Stats of batch 2:\n",
      "Samples: 10000\n",
      "Label Counts: {0: 984, 1: 1007, 2: 1010, 3: 995, 4: 1010, 5: 988, 6: 1008, 7: 1026, 8: 987, 9: 985}\n",
      "First 20 Labels: [1, 6, 6, 8, 8, 3, 4, 6, 0, 6, 0, 3, 6, 6, 5, 4, 8, 3, 2, 6]\n",
      "\n",
      "Example of Image 5:\n",
      "Image - Min Value: 3 Max Value: 219\n",
      "Image - Shape: (32, 32, 3)\n",
      "Label - Label Id: 3 Name: cat\n"
     ]
    },
    {
     "data": {
      "image/png": "[encoded data removed]",
      "text/plain": [
       "<matplotlib.figure.Figure at 0x7f84fac9a4e0>"
      ]
     },
     "metadata": {
      "image/png": {
       "height": 250,
       "width": 253
      }
     },
     "output_type": "display_data"
    }
   ],
   "source": [
    "%matplotlib inline\n",
    "%config InlineBackend.figure_format = 'retina'\n",
    "\n",
    "import helper\n",
    "import numpy as np\n",
    "\n",
    "# Explore the dataset\n",
    "batch_id = 2\n",
    "sample_id = 5\n",
    "helper.display_stats(cifar10_dataset_folder_path, batch_id, sample_id)"
   ]
  },
  {
   "cell_type": "markdown",
   "metadata": {
    "deletable": true,
    "editable": true
   },
   "source": [
    "## Implement Preprocess Functions\n",
    "### Normalize\n",
    "In the cell below, implement the `normalize` function to take in image data, `x`, and return it as a normalized Numpy array. The values should be in the range of 0 to 1, inclusive.  The return object should be the same shape as `x`."
   ]
  },
  {
   "cell_type": "code",
   "execution_count": 3,
   "metadata": {
    "collapsed": false,
    "deletable": true,
    "editable": true
   },
   "outputs": [
    {
     "name": "stdout",
     "output_type": "stream",
     "text": [
      "Tests Passed\n"
     ]
    }
   ],
   "source": [
    "def normalize(x):\n",
    "    \"\"\"\n",
    "    Normalize a list of sample image data in the range of 0 to 1\n",
    "    : x: List of image data.  The image shape is (32, 32, 3)\n",
    "    : return: Numpy array of normalize data\n",
    "    \"\"\"\n",
    "    # TODO: Implement Function\n",
    "    return np.array(x / 255)\n",
    "\n",
    "\n",
    "\"\"\"\n",
    "DON'T MODIFY ANYTHING IN THIS CELL THAT IS BELOW THIS LINE\n",
    "\"\"\"\n",
    "tests.test_normalize(normalize)"
   ]
  },
  {
   "cell_type": "code",
   "execution_count": 4,
   "metadata": {
    "collapsed": true,
    "deletable": true,
    "editable": true
   },
   "outputs": [],
   "source": [
    "#test_shape = (np.random.choice(10), 2, 2, 2)\n",
    "#test_numbers = np.random.choice(range(256), test_shape)\n",
    "\n",
    "#normalize(test_numbers)"
   ]
  },
  {
   "cell_type": "markdown",
   "metadata": {
    "deletable": true,
    "editable": true
   },
   "source": [
    "### One-hot encode\n",
    "Just like the previous code cell, you'll be implementing a function for preprocessing.  This time, you'll implement the `one_hot_encode` function. The input, `x`, are a list of labels.  Implement the function to return the list of labels as One-Hot encoded Numpy array.  The possible values for labels are 0 to 9. The one-hot encoding function should return the same encoding for each value between each call to `one_hot_encode`.  Make sure to save the map of encodings outside the function.\n",
    "\n",
    "Hint: Don't reinvent the wheel."
   ]
  },
  {
   "cell_type": "code",
   "execution_count": 5,
   "metadata": {
    "collapsed": false,
    "deletable": true,
    "editable": true
   },
   "outputs": [
    {
     "name": "stdout",
     "output_type": "stream",
     "text": [
      "Tests Passed\n"
     ]
    }
   ],
   "source": [
    "def one_hot_encode(x):\n",
    "    \"\"\"\n",
    "    One hot encode a list of sample labels. Return a one-hot encoded vector for each label.\n",
    "    : x: List of sample Labels\n",
    "    : return: Numpy array of one-hot encoded labels\n",
    "    \"\"\"\n",
    "    # TODO: Implement Function\n",
    "    return np.eye(10)[x]\n",
    "\n",
    "\n",
    "\"\"\"\n",
    "DON'T MODIFY ANYTHING IN THIS CELL THAT IS BELOW THIS LINE\n",
    "\"\"\"\n",
    "tests.test_one_hot_encode(one_hot_encode)"
   ]
  },
  {
   "cell_type": "code",
   "execution_count": 6,
   "metadata": {
    "collapsed": false,
    "deletable": true,
    "editable": true
   },
   "outputs": [
    {
     "data": {
      "text/plain": [
       "array([[ 0.,  1.,  0.,  0.,  0.,  0.,  0.,  0.,  0.,  0.]])"
      ]
     },
     "execution_count": 6,
     "metadata": {},
     "output_type": "execute_result"
    }
   ],
   "source": [
    "test_numbers = np.random.choice(3, 1)\n",
    "one_hot_encode(test_numbers)"
   ]
  },
  {
   "cell_type": "markdown",
   "metadata": {
    "deletable": true,
    "editable": true
   },
   "source": [
    "### Randomize Data\n",
    "As you saw from exploring the data above, the order of the samples are randomized.  It doesn't hurt to randomize it again, but you don't need to for this dataset."
   ]
  },
  {
   "cell_type": "markdown",
   "metadata": {
    "deletable": true,
    "editable": true
   },
   "source": [
    "## Preprocess all the data and save it\n",
    "Running the code cell below will preprocess all the CIFAR-10 data and save it to file. The code below also uses 10% of the training data for validation."
   ]
  },
  {
   "cell_type": "code",
   "execution_count": 7,
   "metadata": {
    "collapsed": true,
    "deletable": true,
    "editable": true
   },
   "outputs": [],
   "source": [
    "\"\"\"\n",
    "DON'T MODIFY ANYTHING IN THIS CELL\n",
    "\"\"\"\n",
    "# Preprocess Training, Validation, and Testing Data\n",
    "helper.preprocess_and_save_data(cifar10_dataset_folder_path, normalize, one_hot_encode)"
   ]
  },
  {
   "cell_type": "markdown",
   "metadata": {
    "deletable": true,
    "editable": true
   },
   "source": [
    "# Check Point\n",
    "This is your first checkpoint.  If you ever decide to come back to this notebook or have to restart the notebook, you can start from here.  The preprocessed data has been saved to disk."
   ]
  },
  {
   "cell_type": "code",
   "execution_count": 8,
   "metadata": {
    "collapsed": true,
    "deletable": true,
    "editable": true
   },
   "outputs": [],
   "source": [
    "\"\"\"\n",
    "DON'T MODIFY ANYTHING IN THIS CELL\n",
    "\"\"\"\n",
    "import pickle\n",
    "import problem_unittests as tests\n",
    "import helper\n",
    "\n",
    "# Load the Preprocessed Validation data\n",
    "valid_features, valid_labels = pickle.load(open('preprocess_validation.p', mode='rb'))"
   ]
  },
  {
   "cell_type": "markdown",
   "metadata": {
    "deletable": true,
    "editable": true
   },
   "source": [
    "## Build the network\n",
    "For the neural network, you'll build each layer into a function.  Most of the code you've seen has been outside of functions. To test your code more thoroughly, we require that you put each layer in a function.  This allows us to give you better feedback and test for simple mistakes using our unittests before you submit your project.\n",
    "\n",
    ">**Note:** If you're finding it hard to dedicate enough time for this course each week, we've provided a small shortcut to this part of the project. In the next couple of problems, you'll have the option to use classes from the [TensorFlow Layers](https://www.tensorflow.org/api_docs/python/tf/layers) or [TensorFlow Layers (contrib)](https://www.tensorflow.org/api_guides/python/contrib.layers) packages to build each layer, except the layers you build in the \"Convolutional and Max Pooling Layer\" section.  TF Layers is similar to Keras's and TFLearn's abstraction to layers, so it's easy to pickup.\n",
    "\n",
    ">However, if you would like to get the most out of this course, try to solve all the problems _without_ using anything from the TF Layers packages. You **can** still use classes from other packages that happen to have the same name as ones you find in TF Layers! For example, instead of using the TF Layers version of the `conv2d` class, [tf.layers.conv2d](https://www.tensorflow.org/api_docs/python/tf/layers/conv2d), you would want to use the TF Neural Network version of `conv2d`, [tf.nn.conv2d](https://www.tensorflow.org/api_docs/python/tf/nn/conv2d). \n",
    "\n",
    "Let's begin!\n",
    "\n",
    "### Input\n",
    "The neural network needs to read the image data, one-hot encoded labels, and dropout keep probability. Implement the following functions\n",
    "* Implement `neural_net_image_input`\n",
    " * Return a [TF Placeholder](https://www.tensorflow.org/api_docs/python/tf/placeholder)\n",
    " * Set the shape using `image_shape` with batch size set to `None`.\n",
    " * Name the TensorFlow placeholder \"x\" using the TensorFlow `name` parameter in the [TF Placeholder](https://www.tensorflow.org/api_docs/python/tf/placeholder).\n",
    "* Implement `neural_net_label_input`\n",
    " * Return a [TF Placeholder](https://www.tensorflow.org/api_docs/python/tf/placeholder)\n",
    " * Set the shape using `n_classes` with batch size set to `None`.\n",
    " * Name the TensorFlow placeholder \"y\" using the TensorFlow `name` parameter in the [TF Placeholder](https://www.tensorflow.org/api_docs/python/tf/placeholder).\n",
    "* Implement `neural_net_keep_prob_input`\n",
    " * Return a [TF Placeholder](https://www.tensorflow.org/api_docs/python/tf/placeholder) for dropout keep probability.\n",
    " * Name the TensorFlow placeholder \"keep_prob\" using the TensorFlow `name` parameter in the [TF Placeholder](https://www.tensorflow.org/api_docs/python/tf/placeholder).\n",
    "\n",
    "These names will be used at the end of the project to load your saved model.\n",
    "\n",
    "Note: `None` for shapes in TensorFlow allow for a dynamic size."
   ]
  },
  {
   "cell_type": "code",
   "execution_count": 9,
   "metadata": {
    "collapsed": false,
    "deletable": true,
    "editable": true
   },
   "outputs": [
    {
     "name": "stdout",
     "output_type": "stream",
     "text": [
      "Image Input Tests Passed.\n",
      "Label Input Tests Passed.\n",
      "Keep Prob Tests Passed.\n"
     ]
    }
   ],
   "source": [
    "import tensorflow as tf\n",
    "\n",
    "def neural_net_image_input(image_shape):\n",
    "    \"\"\"\n",
    "    Return a Tensor for a batch of image input\n",
    "    : image_shape: Shape of the images\n",
    "    : return: Tensor for image input.\n",
    "    \"\"\"\n",
    "    # TODO: Implement Function\n",
    "    height, width, depth = image_shape\n",
    "    return tf.placeholder(tf.float32, shape=(None, height, width, depth), name='x')\n",
    "\n",
    "\n",
    "def neural_net_label_input(n_classes):\n",
    "    \"\"\"\n",
    "    Return a Tensor for a batch of label input\n",
    "    : n_classes: Number of classes\n",
    "    : return: Tensor for label input.\n",
    "    \"\"\"\n",
    "    # TODO: Implement Function\n",
    "    return tf.placeholder(tf.float32, shape=(None, n_classes), name='y')\n",
    "\n",
    "\n",
    "def neural_net_keep_prob_input():\n",
    "    \"\"\"\n",
    "    Return a Tensor for keep probability\n",
    "    : return: Tensor for keep probability.\n",
    "    \"\"\"\n",
    "    # TODO: Implement Function\n",
    "    return tf.placeholder(tf.float32, name='keep_prob')\n",
    "\n",
    "\n",
    "\"\"\"\n",
    "DON'T MODIFY ANYTHING IN THIS CELL THAT IS BELOW THIS LINE\n",
    "\"\"\"\n",
    "tf.reset_default_graph()\n",
    "tests.test_nn_image_inputs(neural_net_image_input)\n",
    "tests.test_nn_label_inputs(neural_net_label_input)\n",
    "tests.test_nn_keep_prob_inputs(neural_net_keep_prob_input)"
   ]
  },
  {
   "cell_type": "markdown",
   "metadata": {
    "deletable": true,
    "editable": true
   },
   "source": [
    "### Convolution and Max Pooling Layer\n",
    "Convolution layers have a lot of success with images. For this code cell, you should implement the function `conv2d_maxpool` to apply convolution then max pooling:\n",
    "* Create the weight and bias using `conv_ksize`, `conv_num_outputs` and the shape of `x_tensor`.\n",
    "* Apply a convolution to `x_tensor` using weight and `conv_strides`.\n",
    " * We recommend you use same padding, but you're welcome to use any padding.\n",
    "* Add bias\n",
    "* Add a nonlinear activation to the convolution.\n",
    "* Apply Max Pooling using `pool_ksize` and `pool_strides`.\n",
    " * We recommend you use same padding, but you're welcome to use any padding.\n",
    "\n",
    "**Note:** You **can't** use [TensorFlow Layers](https://www.tensorflow.org/api_docs/python/tf/layers) or [TensorFlow Layers (contrib)](https://www.tensorflow.org/api_guides/python/contrib.layers) for **this** layer, but you can still use TensorFlow's [Neural Network](https://www.tensorflow.org/api_docs/python/tf/nn) package. You may still use the shortcut option for all the **other** layers."
   ]
  },
  {
   "cell_type": "code",
   "execution_count": 11,
   "metadata": {
    "collapsed": false,
    "deletable": true,
    "editable": true
   },
   "outputs": [
    {
     "name": "stdout",
     "output_type": "stream",
     "text": [
      "Tests Passed\n"
     ]
    }
   ],
   "source": [
    "def conv2d_maxpool(x_tensor, conv_num_outputs, conv_ksize, conv_strides, pool_ksize, pool_strides):\n",
    "    \"\"\"\n",
    "    Apply convolution then max pooling to x_tensor\n",
    "    :param x_tensor: TensorFlow Tensor\n",
    "    :param conv_num_outputs: Number of outputs for the convolutional layer\n",
    "    :param conv_ksize: kernal size 2-D Tuple for the convolutional layer\n",
    "    :param conv_strides: Stride 2-D Tuple for convolution\n",
    "    :param pool_ksize: kernal size 2-D Tuple for pool\n",
    "    :param pool_strides: Stride 2-D Tuple for pool\n",
    "    : return: A tensor that represents convolution and max pooling of x_tensor\n",
    "    \"\"\"\n",
    "    # TODO: Implement Function\n",
    "    \n",
    "    shape = list(conv_ksize) + [int(x_tensor.get_shape()[-1]), conv_num_outputs] # note x_tensor.shape tf v1.0>\n",
    "    \n",
    "    # Weights\n",
    "    weights = tf.Variable(tf.truncated_normal(shape=shape, stddev=0.03))\n",
    "    \n",
    "    # Bias\n",
    "    biases = tf.Variable(tf.zeros([conv_num_outputs]))\n",
    "    \n",
    "    \n",
    "    # Convolution Layer\n",
    "    conv_layer = tf.nn.conv2d(x_tensor, weights, [1, *conv_strides, 1], padding=\"SAME\")\n",
    "    conv_layer = tf.nn.bias_add(conv_layer, biases)\n",
    "    conv_layer = tf.nn.relu(conv_layer)\n",
    "    \n",
    "    # Max pool\n",
    "    max_pool = tf.nn.max_pool(conv_layer, [1, *pool_ksize, 1], [1, *pool_strides, 1], padding=\"SAME\")\n",
    "\n",
    "    return max_pool\n",
    "\n",
    "\n",
    "\"\"\"\n",
    "DON'T MODIFY ANYTHING IN THIS CELL THAT IS BELOW THIS LINE\n",
    "\"\"\"\n",
    "tests.test_con_pool(conv2d_maxpool)"
   ]
  },
  {
   "cell_type": "code",
   "execution_count": null,
   "metadata": {
    "collapsed": false,
    "deletable": true,
    "editable": true
   },
   "outputs": [],
   "source": []
  },
  {
   "cell_type": "markdown",
   "metadata": {
    "deletable": true,
    "editable": true
   },
   "source": [
    "### Flatten Layer\n",
    "Implement the `flatten` function to change the dimension of `x_tensor` from a 4-D tensor to a 2-D tensor.  The output should be the shape (*Batch Size*, *Flattened Image Size*). Shortcut option: you can use classes from the [TensorFlow Layers](https://www.tensorflow.org/api_docs/python/tf/layers) or [TensorFlow Layers (contrib)](https://www.tensorflow.org/api_guides/python/contrib.layers) packages for this layer. For more of a challenge, only use other TensorFlow packages."
   ]
  },
  {
   "cell_type": "code",
   "execution_count": 12,
   "metadata": {
    "collapsed": false,
    "deletable": true,
    "editable": true
   },
   "outputs": [
    {
     "name": "stdout",
     "output_type": "stream",
     "text": [
      "Tests Passed\n"
     ]
    }
   ],
   "source": [
    "def flatten(x_tensor):\n",
    "    \"\"\"\n",
    "    Flatten x_tensor to (Batch Size, Flattened Image Size)\n",
    "    : x_tensor: A tensor of size (Batch Size, ...), where ... are the image dimensions.\n",
    "    : return: A tensor of size (Batch Size, Flattened Image Size).\n",
    "    \"\"\"\n",
    "    # TODO: Implement Function\n",
    "    return tf.contrib.layers.flatten(x_tensor)\n",
    "\n",
    "\n",
    "\"\"\"\n",
    "DON'T MODIFY ANYTHING IN THIS CELL THAT IS BELOW THIS LINE\n",
    "\"\"\"\n",
    "tests.test_flatten(flatten)"
   ]
  },
  {
   "cell_type": "markdown",
   "metadata": {
    "deletable": true,
    "editable": true
   },
   "source": [
    "### Fully-Connected Layer\n",
    "Implement the `fully_conn` function to apply a fully connected layer to `x_tensor` with the shape (*Batch Size*, *num_outputs*). Shortcut option: you can use classes from the [TensorFlow Layers](https://www.tensorflow.org/api_docs/python/tf/layers) or [TensorFlow Layers (contrib)](https://www.tensorflow.org/api_guides/python/contrib.layers) packages for this layer. For more of a challenge, only use other TensorFlow packages."
   ]
  },
  {
   "cell_type": "code",
   "execution_count": 13,
   "metadata": {
    "collapsed": false,
    "deletable": true,
    "editable": true
   },
   "outputs": [
    {
     "name": "stdout",
     "output_type": "stream",
     "text": [
      "Tests Passed\n"
     ]
    }
   ],
   "source": [
    "def fully_conn(x_tensor, num_outputs):\n",
    "    \"\"\"\n",
    "    Apply a fully connected layer to x_tensor using weight and bias\n",
    "    : x_tensor: A 2-D tensor where the first dimension is batch size.\n",
    "    : num_outputs: The number of output that the new tensor should be.\n",
    "    : return: A 2-D tensor where the second dimension is num_outputs.\n",
    "    \"\"\"\n",
    "    # TODO: Implement Function\n",
    "    return tf.contrib.layers.fully_connected(x_tensor, num_outputs, activation_fn=tf.nn.relu)\n",
    "\n",
    "\n",
    "\"\"\"\n",
    "DON'T MODIFY ANYTHING IN THIS CELL THAT IS BELOW THIS LINE\n",
    "\"\"\"\n",
    "tests.test_fully_conn(fully_conn)"
   ]
  },
  {
   "cell_type": "markdown",
   "metadata": {
    "deletable": true,
    "editable": true
   },
   "source": [
    "### Output Layer\n",
    "Implement the `output` function to apply a fully connected layer to `x_tensor` with the shape (*Batch Size*, *num_outputs*). Shortcut option: you can use classes from the [TensorFlow Layers](https://www.tensorflow.org/api_docs/python/tf/layers) or [TensorFlow Layers (contrib)](https://www.tensorflow.org/api_guides/python/contrib.layers) packages for this layer. For more of a challenge, only use other TensorFlow packages.\n",
    "\n",
    "**Note:** Activation, softmax, or cross entropy should **not** be applied to this."
   ]
  },
  {
   "cell_type": "code",
   "execution_count": 14,
   "metadata": {
    "collapsed": false,
    "deletable": true,
    "editable": true
   },
   "outputs": [
    {
     "name": "stdout",
     "output_type": "stream",
     "text": [
      "Tests Passed\n"
     ]
    }
   ],
   "source": [
    "def output(x_tensor, num_outputs):\n",
    "    \"\"\"\n",
    "    Apply a output layer to x_tensor using weight and bias\n",
    "    : x_tensor: A 2-D tensor where the first dimension is batch size.\n",
    "    : num_outputs: The number of output that the new tensor should be.\n",
    "    : return: A 2-D tensor where the second dimension is num_outputs.\n",
    "    \"\"\"\n",
    "    # TODO: Implement Function\n",
    "    return tf.contrib.layers.fully_connected(x_tensor, num_outputs, activation_fn=None)\n",
    "\n",
    "\n",
    "\"\"\"\n",
    "DON'T MODIFY ANYTHING IN THIS CELL THAT IS BELOW THIS LINE\n",
    "\"\"\"\n",
    "tests.test_output(output)"
   ]
  },
  {
   "cell_type": "markdown",
   "metadata": {
    "deletable": true,
    "editable": true
   },
   "source": [
    "### Create Convolutional Model\n",
    "Implement the function `conv_net` to create a convolutional neural network model. The function takes in a batch of images, `x`, and outputs logits.  Use the layers you created above to create this model:\n",
    "\n",
    "* Apply 1, 2, or 3 Convolution and Max Pool layers\n",
    "* Apply a Flatten Layer\n",
    "* Apply 1, 2, or 3 Fully Connected Layers\n",
    "* Apply an Output Layer\n",
    "* Return the output\n",
    "* Apply [TensorFlow's Dropout](https://www.tensorflow.org/api_docs/python/tf/nn/dropout) to one or more layers in the model using `keep_prob`. "
   ]
  },
  {
   "cell_type": "code",
   "execution_count": 15,
   "metadata": {
    "collapsed": false,
    "deletable": true,
    "editable": true
   },
   "outputs": [
    {
     "name": "stdout",
     "output_type": "stream",
     "text": [
      "Neural Network Built!\n"
     ]
    }
   ],
   "source": [
    "def conv_net(x, keep_prob):\n",
    "    \"\"\"\n",
    "    Create a convolutional neural network model\n",
    "    : x: Placeholder tensor that holds image data.\n",
    "    : keep_prob: Placeholder tensor that hold dropout keep probability.\n",
    "    : return: Tensor that represents logits\n",
    "    \"\"\"\n",
    "    # TODO: Apply 1, 2, or 3 Convolution and Max Pool layers\n",
    "    #    Play around with different number of outputs, kernel size and stride\n",
    "    # Function Definition from Above:\n",
    "    #    conv2d_maxpool(x_tensor, conv_num_outputs, conv_ksize, conv_strides, pool_ksize, pool_strides)\n",
    "    conv = conv2d_maxpool(x,    64,  (5,5), (1,1), (3,3), (2,2))\n",
    "    conv = conv2d_maxpool(conv, 64,  (5,5), (1,1), (3,3), (2,2))\n",
    "    conv = conv2d_maxpool(conv, 64,  (5,5), (1,1), (2,2), (2,2))   \n",
    "\n",
    "    # TODO: Apply a Flatten Layer\n",
    "    # Function Definition from Above:\n",
    "    #   flatten(x_tensor)\n",
    "    flattened_conv = flatten(conv)\n",
    "\n",
    "    # TODO: Apply 1, 2, or 3 Fully Connected Layers\n",
    "    #    Play around with different number of outputs\n",
    "    # Function Definition from Above:\n",
    "    #   fully_conn(x_tensor, num_outputs)\n",
    "    fc = fully_conn(flattened_conv, 512)\n",
    "    fc = fully_conn(fc, 256)\n",
    "    #fc = fully_conn(fc, 128)\n",
    "    fc = tf.nn.dropout(fc, keep_prob)\n",
    "    \n",
    "    \n",
    "    # TODO: Apply an Output Layer\n",
    "    #    Set this to the number of classes\n",
    "    # Function Definition from Above:\n",
    "    #   output(x_tensor, num_outputs)\n",
    "    out = tf.nn.dropout(output(fc, 10), keep_prob)\n",
    "    \n",
    "    # TODO: return output\n",
    "    return out\n",
    "\n",
    "\n",
    "\"\"\"\n",
    "DON'T MODIFY ANYTHING IN THIS CELL THAT IS BELOW THIS LINE\n",
    "\"\"\"\n",
    "\n",
    "##############################\n",
    "## Build the Neural Network ##\n",
    "##############################\n",
    "\n",
    "# Remove previous weights, bias, inputs, etc..\n",
    "tf.reset_default_graph()\n",
    "\n",
    "# Inputs\n",
    "x = neural_net_image_input((32, 32, 3))\n",
    "y = neural_net_label_input(10)\n",
    "keep_prob = neural_net_keep_prob_input()\n",
    "\n",
    "# Model\n",
    "logits = conv_net(x, keep_prob)\n",
    "\n",
    "# Name logits Tensor, so that is can be loaded from disk after training\n",
    "logits = tf.identity(logits, name='logits')\n",
    "\n",
    "# Loss and Optimizer\n",
    "cost = tf.reduce_mean(tf.nn.softmax_cross_entropy_with_logits(logits=logits, labels=y))\n",
    "optimizer = tf.train.AdamOptimizer().minimize(cost)\n",
    "\n",
    "# Accuracy\n",
    "correct_pred = tf.equal(tf.argmax(logits, 1), tf.argmax(y, 1))\n",
    "accuracy = tf.reduce_mean(tf.cast(correct_pred, tf.float32), name='accuracy')\n",
    "\n",
    "tests.test_conv_net(conv_net)"
   ]
  },
  {
   "cell_type": "markdown",
   "metadata": {
    "deletable": true,
    "editable": true
   },
   "source": [
    "## Train the Neural Network\n",
    "### Single Optimization\n",
    "Implement the function `train_neural_network` to do a single optimization.  The optimization should use `optimizer` to optimize in `session` with a `feed_dict` of the following:\n",
    "* `x` for image input\n",
    "* `y` for labels\n",
    "* `keep_prob` for keep probability for dropout\n",
    "\n",
    "This function will be called for each batch, so `tf.global_variables_initializer()` has already been called.\n",
    "\n",
    "Note: Nothing needs to be returned. This function is only optimizing the neural network."
   ]
  },
  {
   "cell_type": "code",
   "execution_count": 16,
   "metadata": {
    "collapsed": false,
    "deletable": true,
    "editable": true
   },
   "outputs": [
    {
     "name": "stdout",
     "output_type": "stream",
     "text": [
      "Tests Passed\n"
     ]
    }
   ],
   "source": [
    "def train_neural_network(session, optimizer, keep_probability, feature_batch, label_batch):\n",
    "    \"\"\"\n",
    "    Optimize the session on a batch of images and labels\n",
    "    : session: Current TensorFlow session\n",
    "    : optimizer: TensorFlow optimizer function\n",
    "    : keep_probability: keep probability\n",
    "    : feature_batch: Batch of Numpy image data\n",
    "    : label_batch: Batch of Numpy label data\n",
    "    \"\"\"\n",
    "    # TODO: Implement Function\n",
    "    session.run(optimizer, feed_dict={\n",
    "        x: feature_batch,\n",
    "        y: label_batch,\n",
    "        keep_prob: keep_probability})\n",
    "\n",
    "\n",
    "\"\"\"\n",
    "DON'T MODIFY ANYTHING IN THIS CELL THAT IS BELOW THIS LINE\n",
    "\"\"\"\n",
    "tests.test_train_nn(train_neural_network)"
   ]
  },
  {
   "cell_type": "markdown",
   "metadata": {
    "deletable": true,
    "editable": true
   },
   "source": [
    "### Show Stats\n",
    "Implement the function `print_stats` to print loss and validation accuracy.  Use the global variables `valid_features` and `valid_labels` to calculate validation accuracy.  Use a keep probability of `1.0` to calculate the loss and validation accuracy."
   ]
  },
  {
   "cell_type": "code",
   "execution_count": 17,
   "metadata": {
    "collapsed": true,
    "deletable": true,
    "editable": true
   },
   "outputs": [],
   "source": [
    "def print_stats(session, feature_batch, label_batch, cost, accuracy):\n",
    "    \"\"\"\n",
    "    Print information about loss and validation accuracy\n",
    "    : session: Current TensorFlow session\n",
    "    : feature_batch: Batch of Numpy image data\n",
    "    : label_batch: Batch of Numpy label data\n",
    "    : cost: TensorFlow cost function\n",
    "    : accuracy: TensorFlow accuracy function\n",
    "    \"\"\"\n",
    "    # TODO: Implement Function\n",
    "    loss = session.run(cost, feed_dict={\n",
    "        x: feature_batch,\n",
    "        y: label_batch,\n",
    "        keep_prob: 1.\n",
    "    })\n",
    "\n",
    "    train_acc = session.run(accuracy, feed_dict={\n",
    "        x: feature_batch,\n",
    "        y: label_batch,\n",
    "        keep_prob: 1.\n",
    "    })\n",
    "    \n",
    "    valid_acc = session.run(accuracy, feed_dict={\n",
    "        x: valid_features,\n",
    "        y: valid_labels,\n",
    "        keep_prob: 1.})\n",
    "\n",
    "    print('Loss: {:.4f} , Training Acc: {:.4f}, Validation Acc: {:.4f}'.format(loss, train_acc, valid_acc))"
   ]
  },
  {
   "cell_type": "markdown",
   "metadata": {
    "deletable": true,
    "editable": true
   },
   "source": [
    "### Hyperparameters\n",
    "Tune the following parameters:\n",
    "* Set `epochs` to the number of iterations until the network stops learning or start overfitting\n",
    "* Set `batch_size` to the highest number that your machine has memory for.  Most people set them to common sizes of memory:\n",
    " * 64\n",
    " * 128\n",
    " * 256\n",
    " * ...\n",
    "* Set `keep_probability` to the probability of keeping a node using dropout"
   ]
  },
  {
   "cell_type": "code",
   "execution_count": 18,
   "metadata": {
    "collapsed": true,
    "deletable": true,
    "editable": true
   },
   "outputs": [],
   "source": [
    "# TODO: Tune Parameters\n",
    "epochs = 100\n",
    "batch_size = 1024\n",
    "keep_probability = 0.6"
   ]
  },
  {
   "cell_type": "markdown",
   "metadata": {
    "deletable": true,
    "editable": true
   },
   "source": [
    "### Train on a Single CIFAR-10 Batch\n",
    "Instead of training the neural network on all the CIFAR-10 batches of data, let's use a single batch. This should save time while you iterate on the model to get a better accuracy.  Once the final validation accuracy is 50% or greater, run the model on all the data in the next section."
   ]
  },
  {
   "cell_type": "code",
   "execution_count": 19,
   "metadata": {
    "collapsed": false,
    "deletable": true,
    "editable": true
   },
   "outputs": [
    {
     "name": "stdout",
     "output_type": "stream",
     "text": [
      "Checking the Training on a Single Batch...\n",
      "Epoch  1, CIFAR-10 Batch 1:  Loss: 2.2324 , Training Acc: 0.1312, Validation Acc: 0.1296\n",
      "Epoch  2, CIFAR-10 Batch 1:  Loss: 2.1611 , Training Acc: 0.2537, Validation Acc: 0.2808\n",
      "Epoch  3, CIFAR-10 Batch 1:  Loss: 1.9688 , Training Acc: 0.2995, Validation Acc: 0.3056\n",
      "Epoch  4, CIFAR-10 Batch 1:  Loss: 1.8983 , Training Acc: 0.3465, Validation Acc: 0.3464\n",
      "Epoch  5, CIFAR-10 Batch 1:  Loss: 1.7837 , Training Acc: 0.3998, Validation Acc: 0.3798\n",
      "Epoch  6, CIFAR-10 Batch 1:  Loss: 1.7146 , Training Acc: 0.4233, Validation Acc: 0.4022\n",
      "Epoch  7, CIFAR-10 Batch 1:  Loss: 1.6524 , Training Acc: 0.4369, Validation Acc: 0.4342\n",
      "Epoch  8, CIFAR-10 Batch 1:  Loss: 1.6057 , Training Acc: 0.4678, Validation Acc: 0.4310\n",
      "Epoch  9, CIFAR-10 Batch 1:  Loss: 1.5646 , Training Acc: 0.4752, Validation Acc: 0.4418\n",
      "Epoch 10, CIFAR-10 Batch 1:  Loss: 1.4873 , Training Acc: 0.5235, Validation Acc: 0.4682\n",
      "Epoch 11, CIFAR-10 Batch 1:  Loss: 1.4025 , Training Acc: 0.5161, Validation Acc: 0.4876\n",
      "Epoch 12, CIFAR-10 Batch 1:  Loss: 1.4520 , Training Acc: 0.5099, Validation Acc: 0.4746\n",
      "Epoch 13, CIFAR-10 Batch 1:  Loss: 1.3183 , Training Acc: 0.5483, Validation Acc: 0.5138\n",
      "Epoch 14, CIFAR-10 Batch 1:  Loss: 1.3171 , Training Acc: 0.5804, Validation Acc: 0.5074\n",
      "Epoch 15, CIFAR-10 Batch 1:  Loss: 1.2685 , Training Acc: 0.6040, Validation Acc: 0.5186\n",
      "Epoch 16, CIFAR-10 Batch 1:  Loss: 1.2533 , Training Acc: 0.6176, Validation Acc: 0.5296\n",
      "Epoch 17, CIFAR-10 Batch 1:  Loss: 1.1679 , Training Acc: 0.6287, Validation Acc: 0.5406\n",
      "Epoch 18, CIFAR-10 Batch 1:  Loss: 1.1897 , Training Acc: 0.6262, Validation Acc: 0.5410\n",
      "Epoch 19, CIFAR-10 Batch 1:  Loss: 1.0944 , Training Acc: 0.6708, Validation Acc: 0.5680\n",
      "Epoch 20, CIFAR-10 Batch 1:  Loss: 1.1441 , Training Acc: 0.6262, Validation Acc: 0.5250\n",
      "Epoch 21, CIFAR-10 Batch 1:  Loss: 1.0474 , Training Acc: 0.6795, Validation Acc: 0.5586\n",
      "Epoch 22, CIFAR-10 Batch 1:  Loss: 1.0763 , Training Acc: 0.6745, Validation Acc: 0.5400\n",
      "Epoch 23, CIFAR-10 Batch 1:  Loss: 0.9414 , Training Acc: 0.6918, Validation Acc: 0.5832\n",
      "Epoch 24, CIFAR-10 Batch 1:  Loss: 0.8795 , Training Acc: 0.7376, Validation Acc: 0.5792\n",
      "Epoch 25, CIFAR-10 Batch 1:  Loss: 0.8456 , Training Acc: 0.7438, Validation Acc: 0.5912\n",
      "Epoch 26, CIFAR-10 Batch 1:  Loss: 0.7780 , Training Acc: 0.7698, Validation Acc: 0.5998\n",
      "Epoch 27, CIFAR-10 Batch 1:  Loss: 0.7356 , Training Acc: 0.7859, Validation Acc: 0.6052\n",
      "Epoch 28, CIFAR-10 Batch 1:  Loss: 0.6781 , Training Acc: 0.8181, Validation Acc: 0.6104\n",
      "Epoch 29, CIFAR-10 Batch 1:  Loss: 0.6816 , Training Acc: 0.8045, Validation Acc: 0.6044\n",
      "Epoch 30, CIFAR-10 Batch 1:  Loss: 0.6462 , Training Acc: 0.8094, Validation Acc: 0.6052\n",
      "Epoch 31, CIFAR-10 Batch 1:  Loss: 0.6086 , Training Acc: 0.8403, Validation Acc: 0.6100\n",
      "Epoch 32, CIFAR-10 Batch 1:  Loss: 0.5744 , Training Acc: 0.8478, Validation Acc: 0.6036\n",
      "Epoch 33, CIFAR-10 Batch 1:  Loss: 0.5679 , Training Acc: 0.8502, Validation Acc: 0.6062\n",
      "Epoch 34, CIFAR-10 Batch 1:  Loss: 0.5461 , Training Acc: 0.8441, Validation Acc: 0.6008\n",
      "Epoch 35, CIFAR-10 Batch 1:  Loss: 0.5214 , Training Acc: 0.8540, Validation Acc: 0.5944\n",
      "Epoch 36, CIFAR-10 Batch 1:  Loss: 0.5117 , Training Acc: 0.8577, Validation Acc: 0.5930\n",
      "Epoch 37, CIFAR-10 Batch 1:  Loss: 0.4532 , Training Acc: 0.8948, Validation Acc: 0.6000\n",
      "Epoch 38, CIFAR-10 Batch 1:  Loss: 0.5130 , Training Acc: 0.8614, Validation Acc: 0.5832\n",
      "Epoch 39, CIFAR-10 Batch 1:  Loss: 0.4275 , Training Acc: 0.8899, Validation Acc: 0.5988\n",
      "Epoch 40, CIFAR-10 Batch 1:  Loss: 0.3821 , Training Acc: 0.8973, Validation Acc: 0.6020\n",
      "Epoch 41, CIFAR-10 Batch 1:  Loss: 0.4217 , Training Acc: 0.8874, Validation Acc: 0.5914\n",
      "Epoch 42, CIFAR-10 Batch 1:  Loss: 0.3100 , Training Acc: 0.9245, Validation Acc: 0.6132\n",
      "Epoch 43, CIFAR-10 Batch 1:  Loss: 0.2944 , Training Acc: 0.9369, Validation Acc: 0.6110\n",
      "Epoch 44, CIFAR-10 Batch 1:  Loss: 0.2668 , Training Acc: 0.9493, Validation Acc: 0.6132\n",
      "Epoch 45, CIFAR-10 Batch 1:  Loss: 0.2278 , Training Acc: 0.9592, Validation Acc: 0.6176\n",
      "Epoch 46, CIFAR-10 Batch 1:  Loss: 0.2141 , Training Acc: 0.9592, Validation Acc: 0.6176\n",
      "Epoch 47, CIFAR-10 Batch 1:  Loss: 0.1932 , Training Acc: 0.9604, Validation Acc: 0.6234\n",
      "Epoch 48, CIFAR-10 Batch 1:  Loss: 0.1993 , Training Acc: 0.9703, Validation Acc: 0.6108\n",
      "Epoch 49, CIFAR-10 Batch 1:  Loss: 0.1975 , Training Acc: 0.9542, Validation Acc: 0.6046\n",
      "Epoch 50, CIFAR-10 Batch 1:  Loss: 0.1555 , Training Acc: 0.9790, Validation Acc: 0.6056\n",
      "Epoch 51, CIFAR-10 Batch 1:  Loss: 0.1770 , Training Acc: 0.9666, Validation Acc: 0.5938\n",
      "Epoch 52, CIFAR-10 Batch 1:  Loss: 0.1506 , Training Acc: 0.9666, Validation Acc: 0.6174\n",
      "Epoch 53, CIFAR-10 Batch 1:  Loss: 0.1458 , Training Acc: 0.9790, Validation Acc: 0.6170\n",
      "Epoch 54, CIFAR-10 Batch 1:  Loss: 0.1451 , Training Acc: 0.9641, Validation Acc: 0.6106\n",
      "Epoch 55, CIFAR-10 Batch 1:  Loss: 0.1534 , Training Acc: 0.9641, Validation Acc: 0.5954\n",
      "Epoch 56, CIFAR-10 Batch 1:  Loss: 0.1075 , Training Acc: 0.9926, Validation Acc: 0.6136\n",
      "Epoch 57, CIFAR-10 Batch 1:  Loss: 0.0780 , Training Acc: 0.9901, Validation Acc: 0.6088\n",
      "Epoch 58, CIFAR-10 Batch 1:  Loss: 0.1152 , Training Acc: 0.9765, Validation Acc: 0.5870\n",
      "Epoch 59, CIFAR-10 Batch 1:  Loss: 0.0655 , Training Acc: 0.9926, Validation Acc: 0.6110\n",
      "Epoch 60, CIFAR-10 Batch 1:  Loss: 0.0527 , Training Acc: 0.9950, Validation Acc: 0.6220\n",
      "Epoch 61, CIFAR-10 Batch 1:  Loss: 0.0438 , Training Acc: 0.9938, Validation Acc: 0.6182\n",
      "Epoch 62, CIFAR-10 Batch 1:  Loss: 0.0388 , Training Acc: 0.9938, Validation Acc: 0.6108\n",
      "Epoch 63, CIFAR-10 Batch 1:  Loss: 0.0313 , Training Acc: 0.9975, Validation Acc: 0.6140\n",
      "Epoch 64, CIFAR-10 Batch 1:  Loss: 0.0274 , Training Acc: 1.0000, Validation Acc: 0.6170\n",
      "Epoch 65, CIFAR-10 Batch 1:  Loss: 0.0349 , Training Acc: 0.9975, Validation Acc: 0.6170\n",
      "Epoch 66, CIFAR-10 Batch 1:  Loss: 0.0209 , Training Acc: 1.0000, Validation Acc: 0.6230\n",
      "Epoch 67, CIFAR-10 Batch 1:  Loss: 0.0164 , Training Acc: 0.9988, Validation Acc: 0.6238\n",
      "Epoch 68, CIFAR-10 Batch 1:  Loss: 0.0188 , Training Acc: 0.9988, Validation Acc: 0.6108\n",
      "Epoch 69, CIFAR-10 Batch 1:  Loss: 0.0149 , Training Acc: 0.9988, Validation Acc: 0.6268\n",
      "Epoch 70, CIFAR-10 Batch 1:  Loss: 0.0364 , Training Acc: 0.9913, Validation Acc: 0.6136\n",
      "Epoch 71, CIFAR-10 Batch 1:  Loss: 0.0244 , Training Acc: 0.9988, Validation Acc: 0.6088\n",
      "Epoch 72, CIFAR-10 Batch 1:  Loss: 0.0319 , Training Acc: 0.9950, Validation Acc: 0.6068\n",
      "Epoch 73, CIFAR-10 Batch 1:  Loss: 0.0557 , Training Acc: 0.9876, Validation Acc: 0.5978\n",
      "Epoch 74, CIFAR-10 Batch 1:  Loss: 0.0907 , Training Acc: 0.9777, Validation Acc: 0.5838\n",
      "Epoch 75, CIFAR-10 Batch 1:  Loss: 0.0365 , Training Acc: 0.9950, Validation Acc: 0.6046\n",
      "Epoch 76, CIFAR-10 Batch 1:  Loss: 0.0375 , Training Acc: 0.9938, Validation Acc: 0.6032\n",
      "Epoch 77, CIFAR-10 Batch 1:  Loss: 0.0321 , Training Acc: 0.9950, Validation Acc: 0.6050\n",
      "Epoch 78, CIFAR-10 Batch 1:  Loss: 0.0211 , Training Acc: 0.9963, Validation Acc: 0.6084\n",
      "Epoch 79, CIFAR-10 Batch 1:  Loss: 0.0379 , Training Acc: 0.9938, Validation Acc: 0.5820\n",
      "Epoch 80, CIFAR-10 Batch 1:  Loss: 0.0237 , Training Acc: 0.9950, Validation Acc: 0.6022\n",
      "Epoch 81, CIFAR-10 Batch 1:  Loss: 0.0357 , Training Acc: 0.9913, Validation Acc: 0.5952\n",
      "Epoch 82, CIFAR-10 Batch 1:  Loss: 0.0293 , Training Acc: 0.9963, Validation Acc: 0.5806\n",
      "Epoch 83, CIFAR-10 Batch 1:  Loss: 0.0319 , Training Acc: 0.9926, Validation Acc: 0.5880\n",
      "Epoch 84, CIFAR-10 Batch 1:  Loss: 0.0818 , Training Acc: 0.9728, Validation Acc: 0.5666\n",
      "Epoch 85, CIFAR-10 Batch 1:  Loss: 0.0822 , Training Acc: 0.9814, Validation Acc: 0.5620\n",
      "Epoch 86, CIFAR-10 Batch 1:  Loss: 0.0584 , Training Acc: 0.9864, Validation Acc: 0.5848\n",
      "Epoch 87, CIFAR-10 Batch 1:  Loss: 0.0348 , Training Acc: 0.9926, Validation Acc: 0.5918\n",
      "Epoch 88, CIFAR-10 Batch 1:  Loss: 0.0540 , Training Acc: 0.9827, Validation Acc: 0.5914\n",
      "Epoch 89, CIFAR-10 Batch 1:  Loss: 0.0464 , Training Acc: 0.9901, Validation Acc: 0.5906\n",
      "Epoch 90, CIFAR-10 Batch 1:  Loss: 0.0620 , Training Acc: 0.9851, Validation Acc: 0.5838\n",
      "Epoch 91, CIFAR-10 Batch 1:  Loss: 0.0314 , Training Acc: 0.9901, Validation Acc: 0.5972\n",
      "Epoch 92, CIFAR-10 Batch 1:  Loss: 0.0250 , Training Acc: 0.9963, Validation Acc: 0.6088\n",
      "Epoch 93, CIFAR-10 Batch 1:  Loss: 0.0323 , Training Acc: 0.9950, Validation Acc: 0.6036\n",
      "Epoch 94, CIFAR-10 Batch 1:  Loss: 0.0299 , Training Acc: 0.9938, Validation Acc: 0.5888\n",
      "Epoch 95, CIFAR-10 Batch 1:  Loss: 0.0261 , Training Acc: 0.9975, Validation Acc: 0.5896\n",
      "Epoch 96, CIFAR-10 Batch 1:  Loss: 0.0094 , Training Acc: 0.9988, Validation Acc: 0.6024\n",
      "Epoch 97, CIFAR-10 Batch 1:  Loss: 0.0040 , Training Acc: 1.0000, Validation Acc: 0.6066\n",
      "Epoch 98, CIFAR-10 Batch 1:  Loss: 0.0046 , Training Acc: 1.0000, Validation Acc: 0.6132\n",
      "Epoch 99, CIFAR-10 Batch 1:  Loss: 0.0031 , Training Acc: 1.0000, Validation Acc: 0.6030\n",
      "Epoch 100, CIFAR-10 Batch 1:  Loss: 0.0042 , Training Acc: 1.0000, Validation Acc: 0.6060\n"
     ]
    }
   ],
   "source": [
    "\"\"\"\n",
    "DON'T MODIFY ANYTHING IN THIS CELL\n",
    "\"\"\"\n",
    "print('Checking the Training on a Single Batch...')\n",
    "with tf.Session() as sess:\n",
    "    # Initializing the variables\n",
    "    sess.run(tf.global_variables_initializer())\n",
    "    \n",
    "    # Training cycle\n",
    "    for epoch in range(epochs):\n",
    "        batch_i = 1\n",
    "        for batch_features, batch_labels in helper.load_preprocess_training_batch(batch_i, batch_size):\n",
    "            train_neural_network(sess, optimizer, keep_probability, batch_features, batch_labels)\n",
    "        print('Epoch {:>2}, CIFAR-10 Batch {}:  '.format(epoch + 1, batch_i), end='')\n",
    "        print_stats(sess, batch_features, batch_labels, cost, accuracy)"
   ]
  },
  {
   "cell_type": "markdown",
   "metadata": {
    "deletable": true,
    "editable": true
   },
   "source": [
    "### Fully Train the Model\n",
    "Now that you got a good accuracy with a single CIFAR-10 batch, try it with all five batches."
   ]
  },
  {
   "cell_type": "code",
   "execution_count": 20,
   "metadata": {
    "collapsed": false,
    "deletable": true,
    "editable": true,
    "scrolled": false
   },
   "outputs": [
    {
     "name": "stdout",
     "output_type": "stream",
     "text": [
      "Training...\n",
      "Epoch  1, CIFAR-10 Batch 1:  Loss: 2.1690 , Training Acc: 0.2933, Validation Acc: 0.2966\n",
      "Epoch  1, CIFAR-10 Batch 2:  Loss: 1.9866 , Training Acc: 0.3205, Validation Acc: 0.3142\n",
      "Epoch  1, CIFAR-10 Batch 3:  Loss: 1.8439 , Training Acc: 0.3725, Validation Acc: 0.3408\n",
      "Epoch  1, CIFAR-10 Batch 4:  Loss: 1.7909 , Training Acc: 0.3676, Validation Acc: 0.3712\n",
      "Epoch  1, CIFAR-10 Batch 5:  Loss: 1.7210 , Training Acc: 0.3886, Validation Acc: 0.4094\n",
      "Epoch  2, CIFAR-10 Batch 1:  Loss: 1.7198 , Training Acc: 0.4257, Validation Acc: 0.3960\n",
      "Epoch  2, CIFAR-10 Batch 2:  Loss: 1.6986 , Training Acc: 0.4208, Validation Acc: 0.4024\n",
      "Epoch  2, CIFAR-10 Batch 3:  Loss: 1.5157 , Training Acc: 0.4901, Validation Acc: 0.4588\n",
      "Epoch  2, CIFAR-10 Batch 4:  Loss: 1.5333 , Training Acc: 0.4666, Validation Acc: 0.4720\n",
      "Epoch  2, CIFAR-10 Batch 5:  Loss: 1.4979 , Training Acc: 0.4889, Validation Acc: 0.4810\n",
      "Epoch  3, CIFAR-10 Batch 1:  Loss: 1.5181 , Training Acc: 0.4678, Validation Acc: 0.4622\n",
      "Epoch  3, CIFAR-10 Batch 2:  Loss: 1.5115 , Training Acc: 0.5000, Validation Acc: 0.4742\n",
      "Epoch  3, CIFAR-10 Batch 3:  Loss: 1.4092 , Training Acc: 0.5396, Validation Acc: 0.5130\n",
      "Epoch  3, CIFAR-10 Batch 4:  Loss: 1.3394 , Training Acc: 0.5297, Validation Acc: 0.5232\n",
      "Epoch  3, CIFAR-10 Batch 5:  Loss: 1.3630 , Training Acc: 0.5804, Validation Acc: 0.5546\n",
      "Epoch  4, CIFAR-10 Batch 1:  Loss: 1.3029 , Training Acc: 0.5780, Validation Acc: 0.5484\n",
      "Epoch  4, CIFAR-10 Batch 2:  Loss: 1.3401 , Training Acc: 0.5569, Validation Acc: 0.5398\n",
      "Epoch  4, CIFAR-10 Batch 3:  Loss: 1.2262 , Training Acc: 0.6015, Validation Acc: 0.5720\n",
      "Epoch  4, CIFAR-10 Batch 4:  Loss: 1.2399 , Training Acc: 0.6151, Validation Acc: 0.5880\n",
      "Epoch  4, CIFAR-10 Batch 5:  Loss: 1.2260 , Training Acc: 0.6139, Validation Acc: 0.5714\n",
      "Epoch  5, CIFAR-10 Batch 1:  Loss: 1.2165 , Training Acc: 0.5978, Validation Acc: 0.5732\n",
      "Epoch  5, CIFAR-10 Batch 2:  Loss: 1.2434 , Training Acc: 0.5978, Validation Acc: 0.5954\n",
      "Epoch  5, CIFAR-10 Batch 3:  Loss: 1.1325 , Training Acc: 0.6374, Validation Acc: 0.5956\n",
      "Epoch  5, CIFAR-10 Batch 4:  Loss: 1.1198 , Training Acc: 0.6250, Validation Acc: 0.5952\n",
      "Epoch  5, CIFAR-10 Batch 5:  Loss: 1.0823 , Training Acc: 0.6584, Validation Acc: 0.6164\n",
      "Epoch  6, CIFAR-10 Batch 1:  Loss: 1.1033 , Training Acc: 0.6473, Validation Acc: 0.6142\n",
      "Epoch  6, CIFAR-10 Batch 2:  Loss: 1.1295 , Training Acc: 0.6498, Validation Acc: 0.6230\n",
      "Epoch  6, CIFAR-10 Batch 3:  Loss: 1.0421 , Training Acc: 0.6683, Validation Acc: 0.6194\n",
      "Epoch  6, CIFAR-10 Batch 4:  Loss: 1.0095 , Training Acc: 0.6807, Validation Acc: 0.6406\n",
      "Epoch  6, CIFAR-10 Batch 5:  Loss: 0.9944 , Training Acc: 0.6943, Validation Acc: 0.6432\n",
      "Epoch  7, CIFAR-10 Batch 1:  Loss: 1.0194 , Training Acc: 0.6720, Validation Acc: 0.6374\n",
      "Epoch  7, CIFAR-10 Batch 2:  Loss: 1.0330 , Training Acc: 0.6745, Validation Acc: 0.6328\n",
      "Epoch  7, CIFAR-10 Batch 3:  Loss: 0.9819 , Training Acc: 0.6819, Validation Acc: 0.6374\n",
      "Epoch  7, CIFAR-10 Batch 4:  Loss: 0.9282 , Training Acc: 0.6770, Validation Acc: 0.6426\n",
      "Epoch  7, CIFAR-10 Batch 5:  Loss: 0.8932 , Training Acc: 0.7265, Validation Acc: 0.6578\n",
      "Epoch  8, CIFAR-10 Batch 1:  Loss: 1.0053 , Training Acc: 0.6819, Validation Acc: 0.6334\n",
      "Epoch  8, CIFAR-10 Batch 2:  Loss: 1.0290 , Training Acc: 0.6795, Validation Acc: 0.6328\n",
      "Epoch  8, CIFAR-10 Batch 3:  Loss: 0.8724 , Training Acc: 0.7327, Validation Acc: 0.6644\n",
      "Epoch  8, CIFAR-10 Batch 4:  Loss: 0.8842 , Training Acc: 0.7203, Validation Acc: 0.6636\n",
      "Epoch  8, CIFAR-10 Batch 5:  Loss: 0.8699 , Training Acc: 0.7277, Validation Acc: 0.6492\n",
      "Epoch  9, CIFAR-10 Batch 1:  Loss: 0.8709 , Training Acc: 0.7314, Validation Acc: 0.6764\n",
      "Epoch  9, CIFAR-10 Batch 2:  Loss: 0.8438 , Training Acc: 0.7351, Validation Acc: 0.6862\n",
      "Epoch  9, CIFAR-10 Batch 3:  Loss: 0.8236 , Training Acc: 0.7413, Validation Acc: 0.6828\n",
      "Epoch  9, CIFAR-10 Batch 4:  Loss: 0.8200 , Training Acc: 0.7624, Validation Acc: 0.6908\n",
      "Epoch  9, CIFAR-10 Batch 5:  Loss: 0.7783 , Training Acc: 0.7760, Validation Acc: 0.6854\n",
      "Epoch 10, CIFAR-10 Batch 1:  Loss: 0.8726 , Training Acc: 0.7228, Validation Acc: 0.6824\n",
      "Epoch 10, CIFAR-10 Batch 2:  Loss: 0.8249 , Training Acc: 0.7450, Validation Acc: 0.6964\n",
      "Epoch 10, CIFAR-10 Batch 3:  Loss: 0.8067 , Training Acc: 0.7512, Validation Acc: 0.6796\n",
      "Epoch 10, CIFAR-10 Batch 4:  Loss: 0.7565 , Training Acc: 0.7599, Validation Acc: 0.6952\n",
      "Epoch 10, CIFAR-10 Batch 5:  Loss: 0.7755 , Training Acc: 0.7809, Validation Acc: 0.6880\n",
      "Epoch 11, CIFAR-10 Batch 1:  Loss: 0.8344 , Training Acc: 0.7116, Validation Acc: 0.6654\n",
      "Epoch 11, CIFAR-10 Batch 2:  Loss: 0.7730 , Training Acc: 0.7537, Validation Acc: 0.7032\n",
      "Epoch 11, CIFAR-10 Batch 3:  Loss: 0.7488 , Training Acc: 0.7673, Validation Acc: 0.7002\n",
      "Epoch 11, CIFAR-10 Batch 4:  Loss: 0.7101 , Training Acc: 0.7797, Validation Acc: 0.7022\n",
      "Epoch 11, CIFAR-10 Batch 5:  Loss: 0.6481 , Training Acc: 0.8168, Validation Acc: 0.7076\n",
      "Epoch 12, CIFAR-10 Batch 1:  Loss: 0.7491 , Training Acc: 0.7587, Validation Acc: 0.7088\n",
      "Epoch 12, CIFAR-10 Batch 2:  Loss: 0.7621 , Training Acc: 0.7525, Validation Acc: 0.6996\n",
      "Epoch 12, CIFAR-10 Batch 3:  Loss: 0.7026 , Training Acc: 0.7834, Validation Acc: 0.7130\n",
      "Epoch 12, CIFAR-10 Batch 4:  Loss: 0.7209 , Training Acc: 0.7871, Validation Acc: 0.6982\n",
      "Epoch 12, CIFAR-10 Batch 5:  Loss: 0.6384 , Training Acc: 0.8168, Validation Acc: 0.7080\n",
      "Epoch 13, CIFAR-10 Batch 1:  Loss: 0.6947 , Training Acc: 0.7933, Validation Acc: 0.7194\n",
      "Epoch 13, CIFAR-10 Batch 2:  Loss: 0.6994 , Training Acc: 0.7871, Validation Acc: 0.7232\n",
      "Epoch 13, CIFAR-10 Batch 3:  Loss: 0.6334 , Training Acc: 0.7970, Validation Acc: 0.7208\n",
      "Epoch 13, CIFAR-10 Batch 4:  Loss: 0.6286 , Training Acc: 0.8193, Validation Acc: 0.7260\n",
      "Epoch 13, CIFAR-10 Batch 5:  Loss: 0.5796 , Training Acc: 0.8267, Validation Acc: 0.7200\n",
      "Epoch 14, CIFAR-10 Batch 1:  Loss: 0.6581 , Training Acc: 0.8020, Validation Acc: 0.7188\n",
      "Epoch 14, CIFAR-10 Batch 2:  Loss: 0.6995 , Training Acc: 0.7859, Validation Acc: 0.7120\n",
      "Epoch 14, CIFAR-10 Batch 3:  Loss: 0.6360 , Training Acc: 0.7995, Validation Acc: 0.7172\n",
      "Epoch 14, CIFAR-10 Batch 4:  Loss: 0.6492 , Training Acc: 0.8032, Validation Acc: 0.7030\n",
      "Epoch 14, CIFAR-10 Batch 5:  Loss: 0.5790 , Training Acc: 0.8379, Validation Acc: 0.7240\n",
      "Epoch 15, CIFAR-10 Batch 1:  Loss: 0.6239 , Training Acc: 0.8069, Validation Acc: 0.7152\n",
      "Epoch 15, CIFAR-10 Batch 2:  Loss: 0.6167 , Training Acc: 0.8007, Validation Acc: 0.7350\n",
      "Epoch 15, CIFAR-10 Batch 3:  Loss: 0.6008 , Training Acc: 0.8181, Validation Acc: 0.7260\n",
      "Epoch 15, CIFAR-10 Batch 4:  Loss: 0.5716 , Training Acc: 0.8453, Validation Acc: 0.7328\n",
      "Epoch 15, CIFAR-10 Batch 5:  Loss: 0.5148 , Training Acc: 0.8540, Validation Acc: 0.7286\n",
      "Epoch 16, CIFAR-10 Batch 1:  Loss: 0.5758 , Training Acc: 0.8342, Validation Acc: 0.7262\n",
      "Epoch 16, CIFAR-10 Batch 2:  Loss: 0.5972 , Training Acc: 0.8131, Validation Acc: 0.7258\n",
      "Epoch 16, CIFAR-10 Batch 3:  Loss: 0.5759 , Training Acc: 0.8181, Validation Acc: 0.7242\n",
      "Epoch 16, CIFAR-10 Batch 4:  Loss: 0.5500 , Training Acc: 0.8403, Validation Acc: 0.7220\n",
      "Epoch 16, CIFAR-10 Batch 5:  Loss: 0.5065 , Training Acc: 0.8515, Validation Acc: 0.7304\n",
      "Epoch 17, CIFAR-10 Batch 1:  Loss: 0.5647 , Training Acc: 0.8168, Validation Acc: 0.7280\n",
      "Epoch 17, CIFAR-10 Batch 2:  Loss: 0.5946 , Training Acc: 0.8119, Validation Acc: 0.7220\n",
      "Epoch 17, CIFAR-10 Batch 3:  Loss: 0.5542 , Training Acc: 0.8205, Validation Acc: 0.7142\n",
      "Epoch 17, CIFAR-10 Batch 4:  Loss: 0.5749 , Training Acc: 0.8193, Validation Acc: 0.7202\n",
      "Epoch 17, CIFAR-10 Batch 5:  Loss: 0.4874 , Training Acc: 0.8639, Validation Acc: 0.7322\n",
      "Epoch 18, CIFAR-10 Batch 1:  Loss: 0.4971 , Training Acc: 0.8403, Validation Acc: 0.7388\n",
      "Epoch 18, CIFAR-10 Batch 2:  Loss: 0.5260 , Training Acc: 0.8465, Validation Acc: 0.7410\n",
      "Epoch 18, CIFAR-10 Batch 3:  Loss: 0.5313 , Training Acc: 0.8366, Validation Acc: 0.7322\n",
      "Epoch 18, CIFAR-10 Batch 4:  Loss: 0.5797 , Training Acc: 0.8267, Validation Acc: 0.7004\n",
      "Epoch 18, CIFAR-10 Batch 5:  Loss: 0.4884 , Training Acc: 0.8601, Validation Acc: 0.7304\n",
      "Epoch 19, CIFAR-10 Batch 1:  Loss: 0.4518 , Training Acc: 0.8651, Validation Acc: 0.7416\n",
      "Epoch 19, CIFAR-10 Batch 2:  Loss: 0.4922 , Training Acc: 0.8639, Validation Acc: 0.7428\n",
      "Epoch 19, CIFAR-10 Batch 3:  Loss: 0.4716 , Training Acc: 0.8527, Validation Acc: 0.7464\n",
      "Epoch 19, CIFAR-10 Batch 4:  Loss: 0.4716 , Training Acc: 0.8527, Validation Acc: 0.7390\n",
      "Epoch 19, CIFAR-10 Batch 5:  Loss: 0.4174 , Training Acc: 0.8812, Validation Acc: 0.7434\n",
      "Epoch 20, CIFAR-10 Batch 1:  Loss: 0.4136 , Training Acc: 0.8713, Validation Acc: 0.7448\n",
      "Epoch 20, CIFAR-10 Batch 2:  Loss: 0.4422 , Training Acc: 0.8762, Validation Acc: 0.7500\n",
      "Epoch 20, CIFAR-10 Batch 3:  Loss: 0.4091 , Training Acc: 0.8874, Validation Acc: 0.7528\n",
      "Epoch 20, CIFAR-10 Batch 4:  Loss: 0.3945 , Training Acc: 0.8948, Validation Acc: 0.7500\n",
      "Epoch 20, CIFAR-10 Batch 5:  Loss: 0.3795 , Training Acc: 0.9072, Validation Acc: 0.7382\n",
      "Epoch 21, CIFAR-10 Batch 1:  Loss: 0.4048 , Training Acc: 0.8663, Validation Acc: 0.7364\n",
      "Epoch 21, CIFAR-10 Batch 2:  Loss: 0.4492 , Training Acc: 0.8676, Validation Acc: 0.7436\n",
      "Epoch 21, CIFAR-10 Batch 3:  Loss: 0.4036 , Training Acc: 0.8874, Validation Acc: 0.7544\n",
      "Epoch 21, CIFAR-10 Batch 4:  Loss: 0.4146 , Training Acc: 0.8775, Validation Acc: 0.7364\n",
      "Epoch 21, CIFAR-10 Batch 5:  Loss: 0.3854 , Training Acc: 0.8998, Validation Acc: 0.7422\n",
      "Epoch 22, CIFAR-10 Batch 1:  Loss: 0.3658 , Training Acc: 0.8874, Validation Acc: 0.7390\n",
      "Epoch 22, CIFAR-10 Batch 2:  Loss: 0.4561 , Training Acc: 0.8651, Validation Acc: 0.7456\n",
      "Epoch 22, CIFAR-10 Batch 3:  Loss: 0.3926 , Training Acc: 0.8849, Validation Acc: 0.7512\n",
      "Epoch 22, CIFAR-10 Batch 4:  Loss: 0.3479 , Training Acc: 0.9109, Validation Acc: 0.7538\n",
      "Epoch 22, CIFAR-10 Batch 5:  Loss: 0.3290 , Training Acc: 0.9109, Validation Acc: 0.7466\n",
      "Epoch 23, CIFAR-10 Batch 1:  Loss: 0.3760 , Training Acc: 0.8886, Validation Acc: 0.7278\n",
      "Epoch 23, CIFAR-10 Batch 2:  Loss: 0.4087 , Training Acc: 0.8923, Validation Acc: 0.7394\n",
      "Epoch 23, CIFAR-10 Batch 3:  Loss: 0.3697 , Training Acc: 0.8936, Validation Acc: 0.7376\n",
      "Epoch 23, CIFAR-10 Batch 4:  Loss: 0.3497 , Training Acc: 0.9134, Validation Acc: 0.7442\n",
      "Epoch 23, CIFAR-10 Batch 5:  Loss: 0.3326 , Training Acc: 0.9134, Validation Acc: 0.7316\n",
      "Epoch 24, CIFAR-10 Batch 1:  Loss: 0.3227 , Training Acc: 0.8985, Validation Acc: 0.7466\n",
      "Epoch 24, CIFAR-10 Batch 2:  Loss: 0.4091 , Training Acc: 0.8775, Validation Acc: 0.7342\n",
      "Epoch 24, CIFAR-10 Batch 3:  Loss: 0.3356 , Training Acc: 0.9035, Validation Acc: 0.7484\n",
      "Epoch 24, CIFAR-10 Batch 4:  Loss: 0.3336 , Training Acc: 0.9146, Validation Acc: 0.7366\n",
      "Epoch 24, CIFAR-10 Batch 5:  Loss: 0.2705 , Training Acc: 0.9332, Validation Acc: 0.7390\n",
      "Epoch 25, CIFAR-10 Batch 1:  Loss: 0.3307 , Training Acc: 0.9059, Validation Acc: 0.7382\n",
      "Epoch 25, CIFAR-10 Batch 2:  Loss: 0.3590 , Training Acc: 0.8973, Validation Acc: 0.7372\n",
      "Epoch 25, CIFAR-10 Batch 3:  Loss: 0.3353 , Training Acc: 0.8985, Validation Acc: 0.7468\n",
      "Epoch 25, CIFAR-10 Batch 4:  Loss: 0.3118 , Training Acc: 0.9196, Validation Acc: 0.7308\n",
      "Epoch 25, CIFAR-10 Batch 5:  Loss: 0.2391 , Training Acc: 0.9443, Validation Acc: 0.7412\n",
      "Epoch 26, CIFAR-10 Batch 1:  Loss: 0.2910 , Training Acc: 0.9121, Validation Acc: 0.7478\n",
      "Epoch 26, CIFAR-10 Batch 2:  Loss: 0.3164 , Training Acc: 0.9158, Validation Acc: 0.7330\n",
      "Epoch 26, CIFAR-10 Batch 3:  Loss: 0.3077 , Training Acc: 0.9220, Validation Acc: 0.7460\n",
      "Epoch 26, CIFAR-10 Batch 4:  Loss: 0.2863 , Training Acc: 0.9319, Validation Acc: 0.7328\n",
      "Epoch 26, CIFAR-10 Batch 5:  Loss: 0.2308 , Training Acc: 0.9455, Validation Acc: 0.7470\n",
      "Epoch 27, CIFAR-10 Batch 1:  Loss: 0.2544 , Training Acc: 0.9307, Validation Acc: 0.7466\n",
      "Epoch 27, CIFAR-10 Batch 2:  Loss: 0.3209 , Training Acc: 0.9171, Validation Acc: 0.7354\n",
      "Epoch 27, CIFAR-10 Batch 3:  Loss: 0.3410 , Training Acc: 0.8998, Validation Acc: 0.7300\n",
      "Epoch 27, CIFAR-10 Batch 4:  Loss: 0.2704 , Training Acc: 0.9356, Validation Acc: 0.7444\n",
      "Epoch 27, CIFAR-10 Batch 5:  Loss: 0.2180 , Training Acc: 0.9517, Validation Acc: 0.7432\n",
      "Epoch 28, CIFAR-10 Batch 1:  Loss: 0.2193 , Training Acc: 0.9468, Validation Acc: 0.7472\n",
      "Epoch 28, CIFAR-10 Batch 2:  Loss: 0.2993 , Training Acc: 0.9171, Validation Acc: 0.7420\n",
      "Epoch 28, CIFAR-10 Batch 3:  Loss: 0.3080 , Training Acc: 0.9010, Validation Acc: 0.7278\n",
      "Epoch 28, CIFAR-10 Batch 4:  Loss: 0.2455 , Training Acc: 0.9443, Validation Acc: 0.7492\n",
      "Epoch 28, CIFAR-10 Batch 5:  Loss: 0.1727 , Training Acc: 0.9666, Validation Acc: 0.7606\n",
      "Epoch 29, CIFAR-10 Batch 1:  Loss: 0.2196 , Training Acc: 0.9344, Validation Acc: 0.7498\n",
      "Epoch 29, CIFAR-10 Batch 2:  Loss: 0.2397 , Training Acc: 0.9394, Validation Acc: 0.7392\n",
      "Epoch 29, CIFAR-10 Batch 3:  Loss: 0.2429 , Training Acc: 0.9418, Validation Acc: 0.7456\n",
      "Epoch 29, CIFAR-10 Batch 4:  Loss: 0.2389 , Training Acc: 0.9505, Validation Acc: 0.7410\n",
      "Epoch 29, CIFAR-10 Batch 5:  Loss: 0.1852 , Training Acc: 0.9554, Validation Acc: 0.7498\n",
      "Epoch 30, CIFAR-10 Batch 1:  Loss: 0.1819 , Training Acc: 0.9641, Validation Acc: 0.7486\n",
      "Epoch 30, CIFAR-10 Batch 2:  Loss: 0.2352 , Training Acc: 0.9369, Validation Acc: 0.7364\n",
      "Epoch 30, CIFAR-10 Batch 3:  Loss: 0.2164 , Training Acc: 0.9431, Validation Acc: 0.7480\n",
      "Epoch 30, CIFAR-10 Batch 4:  Loss: 0.2276 , Training Acc: 0.9505, Validation Acc: 0.7224\n",
      "Epoch 30, CIFAR-10 Batch 5:  Loss: 0.1894 , Training Acc: 0.9616, Validation Acc: 0.7386\n",
      "Epoch 31, CIFAR-10 Batch 1:  Loss: 0.2170 , Training Acc: 0.9307, Validation Acc: 0.7352\n",
      "Epoch 31, CIFAR-10 Batch 2:  Loss: 0.2267 , Training Acc: 0.9319, Validation Acc: 0.7336\n",
      "Epoch 31, CIFAR-10 Batch 3:  Loss: 0.2241 , Training Acc: 0.9517, Validation Acc: 0.7378\n",
      "Epoch 31, CIFAR-10 Batch 4:  Loss: 0.2173 , Training Acc: 0.9443, Validation Acc: 0.7442\n",
      "Epoch 31, CIFAR-10 Batch 5:  Loss: 0.1710 , Training Acc: 0.9666, Validation Acc: 0.7376\n",
      "Epoch 32, CIFAR-10 Batch 1:  Loss: 0.2102 , Training Acc: 0.9443, Validation Acc: 0.7320\n",
      "Epoch 32, CIFAR-10 Batch 2:  Loss: 0.2924 , Training Acc: 0.9220, Validation Acc: 0.7170\n",
      "Epoch 32, CIFAR-10 Batch 3:  Loss: 0.2396 , Training Acc: 0.9369, Validation Acc: 0.7270\n",
      "Epoch 32, CIFAR-10 Batch 4:  Loss: 0.1540 , Training Acc: 0.9715, Validation Acc: 0.7526\n",
      "Epoch 32, CIFAR-10 Batch 5:  Loss: 0.1291 , Training Acc: 0.9765, Validation Acc: 0.7446\n",
      "Epoch 33, CIFAR-10 Batch 1:  Loss: 0.1339 , Training Acc: 0.9691, Validation Acc: 0.7496\n",
      "Epoch 33, CIFAR-10 Batch 2:  Loss: 0.2324 , Training Acc: 0.9295, Validation Acc: 0.7172\n",
      "Epoch 33, CIFAR-10 Batch 3:  Loss: 0.2365 , Training Acc: 0.9332, Validation Acc: 0.7204\n",
      "Epoch 33, CIFAR-10 Batch 4:  Loss: 0.1996 , Training Acc: 0.9505, Validation Acc: 0.7354\n",
      "Epoch 33, CIFAR-10 Batch 5:  Loss: 0.1580 , Training Acc: 0.9616, Validation Acc: 0.7382\n",
      "Epoch 34, CIFAR-10 Batch 1:  Loss: 0.1593 , Training Acc: 0.9579, Validation Acc: 0.7532\n",
      "Epoch 34, CIFAR-10 Batch 2:  Loss: 0.1770 , Training Acc: 0.9493, Validation Acc: 0.7366\n",
      "Epoch 34, CIFAR-10 Batch 3:  Loss: 0.2050 , Training Acc: 0.9394, Validation Acc: 0.7416\n",
      "Epoch 34, CIFAR-10 Batch 4:  Loss: 0.1610 , Training Acc: 0.9678, Validation Acc: 0.7384\n",
      "Epoch 34, CIFAR-10 Batch 5:  Loss: 0.1442 , Training Acc: 0.9604, Validation Acc: 0.7270\n",
      "Epoch 35, CIFAR-10 Batch 1:  Loss: 0.1612 , Training Acc: 0.9579, Validation Acc: 0.7328\n",
      "Epoch 35, CIFAR-10 Batch 2:  Loss: 0.1287 , Training Acc: 0.9728, Validation Acc: 0.7456\n",
      "Epoch 35, CIFAR-10 Batch 3:  Loss: 0.1526 , Training Acc: 0.9505, Validation Acc: 0.7368\n",
      "Epoch 35, CIFAR-10 Batch 4:  Loss: 0.1508 , Training Acc: 0.9641, Validation Acc: 0.7364\n",
      "Epoch 35, CIFAR-10 Batch 5:  Loss: 0.1327 , Training Acc: 0.9740, Validation Acc: 0.7328\n",
      "Epoch 36, CIFAR-10 Batch 1:  Loss: 0.1451 , Training Acc: 0.9616, Validation Acc: 0.7316\n",
      "Epoch 36, CIFAR-10 Batch 2:  Loss: 0.1316 , Training Acc: 0.9728, Validation Acc: 0.7324\n",
      "Epoch 36, CIFAR-10 Batch 3:  Loss: 0.1730 , Training Acc: 0.9554, Validation Acc: 0.7292\n",
      "Epoch 36, CIFAR-10 Batch 4:  Loss: 0.1395 , Training Acc: 0.9616, Validation Acc: 0.7302\n",
      "Epoch 36, CIFAR-10 Batch 5:  Loss: 0.1214 , Training Acc: 0.9752, Validation Acc: 0.7384\n",
      "Epoch 37, CIFAR-10 Batch 1:  Loss: 0.1257 , Training Acc: 0.9715, Validation Acc: 0.7390\n",
      "Epoch 37, CIFAR-10 Batch 2:  Loss: 0.1231 , Training Acc: 0.9752, Validation Acc: 0.7346\n",
      "Epoch 37, CIFAR-10 Batch 3:  Loss: 0.1698 , Training Acc: 0.9530, Validation Acc: 0.7288\n",
      "Epoch 37, CIFAR-10 Batch 4:  Loss: 0.1206 , Training Acc: 0.9715, Validation Acc: 0.7394\n",
      "Epoch 37, CIFAR-10 Batch 5:  Loss: 0.1161 , Training Acc: 0.9790, Validation Acc: 0.7434\n",
      "Epoch 38, CIFAR-10 Batch 1:  Loss: 0.1110 , Training Acc: 0.9802, Validation Acc: 0.7424\n",
      "Epoch 38, CIFAR-10 Batch 2:  Loss: 0.1149 , Training Acc: 0.9678, Validation Acc: 0.7310\n",
      "Epoch 38, CIFAR-10 Batch 3:  Loss: 0.1248 , Training Acc: 0.9703, Validation Acc: 0.7386\n",
      "Epoch 38, CIFAR-10 Batch 4:  Loss: 0.1291 , Training Acc: 0.9666, Validation Acc: 0.7328\n",
      "Epoch 38, CIFAR-10 Batch 5:  Loss: 0.1273 , Training Acc: 0.9715, Validation Acc: 0.7346\n",
      "Epoch 39, CIFAR-10 Batch 1:  Loss: 0.1118 , Training Acc: 0.9703, Validation Acc: 0.7452\n",
      "Epoch 39, CIFAR-10 Batch 2:  Loss: 0.0836 , Training Acc: 0.9827, Validation Acc: 0.7460\n",
      "Epoch 39, CIFAR-10 Batch 3:  Loss: 0.1349 , Training Acc: 0.9542, Validation Acc: 0.7398\n",
      "Epoch 39, CIFAR-10 Batch 4:  Loss: 0.1436 , Training Acc: 0.9530, Validation Acc: 0.7244\n",
      "Epoch 39, CIFAR-10 Batch 5:  Loss: 0.1051 , Training Acc: 0.9740, Validation Acc: 0.7350\n",
      "Epoch 40, CIFAR-10 Batch 1:  Loss: 0.1137 , Training Acc: 0.9752, Validation Acc: 0.7364\n",
      "Epoch 40, CIFAR-10 Batch 2:  Loss: 0.0723 , Training Acc: 0.9827, Validation Acc: 0.7534\n",
      "Epoch 40, CIFAR-10 Batch 3:  Loss: 0.1119 , Training Acc: 0.9703, Validation Acc: 0.7404\n",
      "Epoch 40, CIFAR-10 Batch 4:  Loss: 0.0826 , Training Acc: 0.9814, Validation Acc: 0.7434\n",
      "Epoch 40, CIFAR-10 Batch 5:  Loss: 0.1137 , Training Acc: 0.9691, Validation Acc: 0.7258\n",
      "Epoch 41, CIFAR-10 Batch 1:  Loss: 0.1342 , Training Acc: 0.9666, Validation Acc: 0.7332\n",
      "Epoch 41, CIFAR-10 Batch 2:  Loss: 0.1047 , Training Acc: 0.9827, Validation Acc: 0.7386\n",
      "Epoch 41, CIFAR-10 Batch 3:  Loss: 0.1012 , Training Acc: 0.9777, Validation Acc: 0.7460\n",
      "Epoch 41, CIFAR-10 Batch 4:  Loss: 0.0768 , Training Acc: 0.9851, Validation Acc: 0.7532\n",
      "Epoch 41, CIFAR-10 Batch 5:  Loss: 0.0773 , Training Acc: 0.9827, Validation Acc: 0.7486\n",
      "Epoch 42, CIFAR-10 Batch 1:  Loss: 0.1002 , Training Acc: 0.9740, Validation Acc: 0.7428\n",
      "Epoch 42, CIFAR-10 Batch 2:  Loss: 0.0739 , Training Acc: 0.9913, Validation Acc: 0.7548\n",
      "Epoch 42, CIFAR-10 Batch 3:  Loss: 0.1183 , Training Acc: 0.9703, Validation Acc: 0.7368\n",
      "Epoch 42, CIFAR-10 Batch 4:  Loss: 0.0855 , Training Acc: 0.9864, Validation Acc: 0.7420\n",
      "Epoch 42, CIFAR-10 Batch 5:  Loss: 0.0759 , Training Acc: 0.9814, Validation Acc: 0.7436\n",
      "Epoch 43, CIFAR-10 Batch 1:  Loss: 0.0704 , Training Acc: 0.9889, Validation Acc: 0.7464\n",
      "Epoch 43, CIFAR-10 Batch 2:  Loss: 0.0705 , Training Acc: 0.9901, Validation Acc: 0.7432\n",
      "Epoch 43, CIFAR-10 Batch 3:  Loss: 0.0884 , Training Acc: 0.9777, Validation Acc: 0.7374\n",
      "Epoch 43, CIFAR-10 Batch 4:  Loss: 0.0814 , Training Acc: 0.9777, Validation Acc: 0.7300\n",
      "Epoch 43, CIFAR-10 Batch 5:  Loss: 0.0629 , Training Acc: 0.9901, Validation Acc: 0.7492\n",
      "Epoch 44, CIFAR-10 Batch 1:  Loss: 0.0611 , Training Acc: 0.9876, Validation Acc: 0.7486\n",
      "Epoch 44, CIFAR-10 Batch 2:  Loss: 0.0779 , Training Acc: 0.9802, Validation Acc: 0.7372\n",
      "Epoch 44, CIFAR-10 Batch 3:  Loss: 0.0622 , Training Acc: 0.9839, Validation Acc: 0.7502\n",
      "Epoch 44, CIFAR-10 Batch 4:  Loss: 0.0571 , Training Acc: 0.9926, Validation Acc: 0.7460\n",
      "Epoch 44, CIFAR-10 Batch 5:  Loss: 0.0549 , Training Acc: 0.9913, Validation Acc: 0.7400\n",
      "Epoch 45, CIFAR-10 Batch 1:  Loss: 0.0371 , Training Acc: 0.9950, Validation Acc: 0.7500\n",
      "Epoch 45, CIFAR-10 Batch 2:  Loss: 0.0550 , Training Acc: 0.9876, Validation Acc: 0.7468\n",
      "Epoch 45, CIFAR-10 Batch 3:  Loss: 0.0470 , Training Acc: 0.9938, Validation Acc: 0.7502\n",
      "Epoch 45, CIFAR-10 Batch 4:  Loss: 0.0470 , Training Acc: 0.9938, Validation Acc: 0.7402\n",
      "Epoch 45, CIFAR-10 Batch 5:  Loss: 0.0457 , Training Acc: 0.9913, Validation Acc: 0.7366\n",
      "Epoch 46, CIFAR-10 Batch 1:  Loss: 0.0581 , Training Acc: 0.9876, Validation Acc: 0.7432\n",
      "Epoch 46, CIFAR-10 Batch 2:  Loss: 0.0550 , Training Acc: 0.9876, Validation Acc: 0.7470\n",
      "Epoch 46, CIFAR-10 Batch 3:  Loss: 0.0590 , Training Acc: 0.9926, Validation Acc: 0.7444\n",
      "Epoch 46, CIFAR-10 Batch 4:  Loss: 0.0538 , Training Acc: 0.9876, Validation Acc: 0.7434\n",
      "Epoch 46, CIFAR-10 Batch 5:  Loss: 0.0518 , Training Acc: 0.9876, Validation Acc: 0.7410\n",
      "Epoch 47, CIFAR-10 Batch 1:  Loss: 0.0611 , Training Acc: 0.9889, Validation Acc: 0.7382\n",
      "Epoch 47, CIFAR-10 Batch 2:  Loss: 0.0393 , Training Acc: 0.9963, Validation Acc: 0.7462\n",
      "Epoch 47, CIFAR-10 Batch 3:  Loss: 0.0404 , Training Acc: 0.9938, Validation Acc: 0.7486\n",
      "Epoch 47, CIFAR-10 Batch 4:  Loss: 0.0376 , Training Acc: 0.9926, Validation Acc: 0.7386\n",
      "Epoch 47, CIFAR-10 Batch 5:  Loss: 0.0555 , Training Acc: 0.9851, Validation Acc: 0.7292\n",
      "Epoch 48, CIFAR-10 Batch 1:  Loss: 0.0540 , Training Acc: 0.9864, Validation Acc: 0.7408\n",
      "Epoch 48, CIFAR-10 Batch 2:  Loss: 0.0385 , Training Acc: 0.9938, Validation Acc: 0.7496\n",
      "Epoch 48, CIFAR-10 Batch 3:  Loss: 0.0462 , Training Acc: 0.9876, Validation Acc: 0.7478\n",
      "Epoch 48, CIFAR-10 Batch 4:  Loss: 0.0288 , Training Acc: 0.9950, Validation Acc: 0.7388\n",
      "Epoch 48, CIFAR-10 Batch 5:  Loss: 0.0607 , Training Acc: 0.9827, Validation Acc: 0.7336\n",
      "Epoch 49, CIFAR-10 Batch 1:  Loss: 0.0399 , Training Acc: 0.9926, Validation Acc: 0.7470\n",
      "Epoch 49, CIFAR-10 Batch 2:  Loss: 0.0359 , Training Acc: 0.9963, Validation Acc: 0.7426\n",
      "Epoch 49, CIFAR-10 Batch 3:  Loss: 0.0329 , Training Acc: 0.9901, Validation Acc: 0.7452\n",
      "Epoch 49, CIFAR-10 Batch 4:  Loss: 0.0362 , Training Acc: 0.9975, Validation Acc: 0.7306\n",
      "Epoch 49, CIFAR-10 Batch 5:  Loss: 0.0587 , Training Acc: 0.9851, Validation Acc: 0.7292\n",
      "Epoch 50, CIFAR-10 Batch 1:  Loss: 0.0650 , Training Acc: 0.9864, Validation Acc: 0.7342\n",
      "Epoch 50, CIFAR-10 Batch 2:  Loss: 0.0431 , Training Acc: 0.9950, Validation Acc: 0.7356\n",
      "Epoch 50, CIFAR-10 Batch 3:  Loss: 0.0374 , Training Acc: 0.9988, Validation Acc: 0.7410\n",
      "Epoch 50, CIFAR-10 Batch 4:  Loss: 0.0277 , Training Acc: 0.9975, Validation Acc: 0.7414\n",
      "Epoch 50, CIFAR-10 Batch 5:  Loss: 0.0375 , Training Acc: 0.9913, Validation Acc: 0.7330\n",
      "Epoch 51, CIFAR-10 Batch 1:  Loss: 0.0568 , Training Acc: 0.9876, Validation Acc: 0.7298\n",
      "Epoch 51, CIFAR-10 Batch 2:  Loss: 0.0546 , Training Acc: 0.9876, Validation Acc: 0.7306\n",
      "Epoch 51, CIFAR-10 Batch 3:  Loss: 0.0618 , Training Acc: 0.9876, Validation Acc: 0.7322\n",
      "Epoch 51, CIFAR-10 Batch 4:  Loss: 0.0353 , Training Acc: 0.9950, Validation Acc: 0.7406\n",
      "Epoch 51, CIFAR-10 Batch 5:  Loss: 0.0335 , Training Acc: 0.9901, Validation Acc: 0.7382\n",
      "Epoch 52, CIFAR-10 Batch 1:  Loss: 0.0777 , Training Acc: 0.9765, Validation Acc: 0.7300\n",
      "Epoch 52, CIFAR-10 Batch 2:  Loss: 0.0821 , Training Acc: 0.9802, Validation Acc: 0.7248\n",
      "Epoch 52, CIFAR-10 Batch 3:  Loss: 0.0529 , Training Acc: 0.9876, Validation Acc: 0.7374\n",
      "Epoch 52, CIFAR-10 Batch 4:  Loss: 0.0353 , Training Acc: 0.9926, Validation Acc: 0.7418\n",
      "Epoch 52, CIFAR-10 Batch 5:  Loss: 0.0549 , Training Acc: 0.9913, Validation Acc: 0.7316\n",
      "Epoch 53, CIFAR-10 Batch 1:  Loss: 0.0406 , Training Acc: 0.9926, Validation Acc: 0.7420\n",
      "Epoch 53, CIFAR-10 Batch 2:  Loss: 0.0303 , Training Acc: 0.9963, Validation Acc: 0.7424\n",
      "Epoch 53, CIFAR-10 Batch 3:  Loss: 0.0331 , Training Acc: 0.9975, Validation Acc: 0.7444\n",
      "Epoch 53, CIFAR-10 Batch 4:  Loss: 0.0231 , Training Acc: 0.9975, Validation Acc: 0.7436\n",
      "Epoch 53, CIFAR-10 Batch 5:  Loss: 0.0202 , Training Acc: 0.9975, Validation Acc: 0.7506\n",
      "Epoch 54, CIFAR-10 Batch 1:  Loss: 0.0470 , Training Acc: 0.9913, Validation Acc: 0.7346\n",
      "Epoch 54, CIFAR-10 Batch 2:  Loss: 0.0469 , Training Acc: 0.9864, Validation Acc: 0.7374\n",
      "Epoch 54, CIFAR-10 Batch 3:  Loss: 0.0388 , Training Acc: 0.9950, Validation Acc: 0.7308\n",
      "Epoch 54, CIFAR-10 Batch 4:  Loss: 0.0211 , Training Acc: 0.9988, Validation Acc: 0.7422\n",
      "Epoch 54, CIFAR-10 Batch 5:  Loss: 0.0298 , Training Acc: 0.9938, Validation Acc: 0.7456\n",
      "Epoch 55, CIFAR-10 Batch 1:  Loss: 0.0259 , Training Acc: 0.9950, Validation Acc: 0.7506\n",
      "Epoch 55, CIFAR-10 Batch 2:  Loss: 0.0277 , Training Acc: 0.9938, Validation Acc: 0.7452\n",
      "Epoch 55, CIFAR-10 Batch 3:  Loss: 0.0448 , Training Acc: 0.9889, Validation Acc: 0.7346\n",
      "Epoch 55, CIFAR-10 Batch 4:  Loss: 0.0194 , Training Acc: 0.9938, Validation Acc: 0.7470\n",
      "Epoch 55, CIFAR-10 Batch 5:  Loss: 0.0189 , Training Acc: 0.9988, Validation Acc: 0.7430\n",
      "Epoch 56, CIFAR-10 Batch 1:  Loss: 0.0335 , Training Acc: 0.9913, Validation Acc: 0.7382\n",
      "Epoch 56, CIFAR-10 Batch 2:  Loss: 0.0285 , Training Acc: 0.9938, Validation Acc: 0.7422\n",
      "Epoch 56, CIFAR-10 Batch 3:  Loss: 0.0492 , Training Acc: 0.9851, Validation Acc: 0.7272\n",
      "Epoch 56, CIFAR-10 Batch 4:  Loss: 0.0315 , Training Acc: 0.9950, Validation Acc: 0.7334\n",
      "Epoch 56, CIFAR-10 Batch 5:  Loss: 0.0172 , Training Acc: 0.9988, Validation Acc: 0.7462\n",
      "Epoch 57, CIFAR-10 Batch 1:  Loss: 0.0443 , Training Acc: 0.9901, Validation Acc: 0.7342\n",
      "Epoch 57, CIFAR-10 Batch 2:  Loss: 0.0343 , Training Acc: 0.9901, Validation Acc: 0.7504\n",
      "Epoch 57, CIFAR-10 Batch 3:  Loss: 0.0290 , Training Acc: 0.9963, Validation Acc: 0.7376\n",
      "Epoch 57, CIFAR-10 Batch 4:  Loss: 0.0237 , Training Acc: 0.9926, Validation Acc: 0.7290\n",
      "Epoch 57, CIFAR-10 Batch 5:  Loss: 0.0198 , Training Acc: 0.9963, Validation Acc: 0.7446\n",
      "Epoch 58, CIFAR-10 Batch 1:  Loss: 0.0170 , Training Acc: 0.9988, Validation Acc: 0.7460\n",
      "Epoch 58, CIFAR-10 Batch 2:  Loss: 0.0187 , Training Acc: 0.9988, Validation Acc: 0.7458\n",
      "Epoch 58, CIFAR-10 Batch 3:  Loss: 0.0537 , Training Acc: 0.9839, Validation Acc: 0.7336\n",
      "Epoch 58, CIFAR-10 Batch 4:  Loss: 0.0288 , Training Acc: 0.9975, Validation Acc: 0.7292\n",
      "Epoch 58, CIFAR-10 Batch 5:  Loss: 0.0195 , Training Acc: 0.9950, Validation Acc: 0.7490\n",
      "Epoch 59, CIFAR-10 Batch 1:  Loss: 0.0192 , Training Acc: 1.0000, Validation Acc: 0.7470\n",
      "Epoch 59, CIFAR-10 Batch 2:  Loss: 0.0522 , Training Acc: 0.9839, Validation Acc: 0.7336\n",
      "Epoch 59, CIFAR-10 Batch 3:  Loss: 0.0281 , Training Acc: 0.9926, Validation Acc: 0.7312\n",
      "Epoch 59, CIFAR-10 Batch 4:  Loss: 0.0364 , Training Acc: 0.9876, Validation Acc: 0.7326\n",
      "Epoch 59, CIFAR-10 Batch 5:  Loss: 0.0243 , Training Acc: 0.9975, Validation Acc: 0.7388\n",
      "Epoch 60, CIFAR-10 Batch 1:  Loss: 0.0298 , Training Acc: 0.9926, Validation Acc: 0.7396\n",
      "Epoch 60, CIFAR-10 Batch 2:  Loss: 0.0331 , Training Acc: 0.9901, Validation Acc: 0.7402\n",
      "Epoch 60, CIFAR-10 Batch 3:  Loss: 0.0164 , Training Acc: 0.9988, Validation Acc: 0.7424\n",
      "Epoch 60, CIFAR-10 Batch 4:  Loss: 0.0146 , Training Acc: 0.9975, Validation Acc: 0.7386\n",
      "Epoch 60, CIFAR-10 Batch 5:  Loss: 0.0176 , Training Acc: 0.9975, Validation Acc: 0.7338\n",
      "Epoch 61, CIFAR-10 Batch 1:  Loss: 0.0308 , Training Acc: 0.9963, Validation Acc: 0.7306\n",
      "Epoch 61, CIFAR-10 Batch 2:  Loss: 0.0261 , Training Acc: 0.9950, Validation Acc: 0.7382\n",
      "Epoch 61, CIFAR-10 Batch 3:  Loss: 0.0323 , Training Acc: 0.9926, Validation Acc: 0.7380\n",
      "Epoch 61, CIFAR-10 Batch 4:  Loss: 0.0197 , Training Acc: 0.9938, Validation Acc: 0.7392\n",
      "Epoch 61, CIFAR-10 Batch 5:  Loss: 0.0328 , Training Acc: 0.9913, Validation Acc: 0.7268\n",
      "Epoch 62, CIFAR-10 Batch 1:  Loss: 0.0363 , Training Acc: 0.9889, Validation Acc: 0.7260\n",
      "Epoch 62, CIFAR-10 Batch 2:  Loss: 0.0336 , Training Acc: 0.9938, Validation Acc: 0.7338\n",
      "Epoch 62, CIFAR-10 Batch 3:  Loss: 0.0164 , Training Acc: 1.0000, Validation Acc: 0.7450\n",
      "Epoch 62, CIFAR-10 Batch 4:  Loss: 0.0142 , Training Acc: 0.9988, Validation Acc: 0.7460\n",
      "Epoch 62, CIFAR-10 Batch 5:  Loss: 0.0246 , Training Acc: 0.9926, Validation Acc: 0.7324\n",
      "Epoch 63, CIFAR-10 Batch 1:  Loss: 0.0385 , Training Acc: 0.9901, Validation Acc: 0.7300\n",
      "Epoch 63, CIFAR-10 Batch 2:  Loss: 0.0341 , Training Acc: 0.9926, Validation Acc: 0.7254\n",
      "Epoch 63, CIFAR-10 Batch 3:  Loss: 0.0513 , Training Acc: 0.9864, Validation Acc: 0.7354\n",
      "Epoch 63, CIFAR-10 Batch 4:  Loss: 0.0227 , Training Acc: 0.9938, Validation Acc: 0.7406\n",
      "Epoch 63, CIFAR-10 Batch 5:  Loss: 0.0194 , Training Acc: 0.9963, Validation Acc: 0.7398\n",
      "Epoch 64, CIFAR-10 Batch 1:  Loss: 0.0181 , Training Acc: 0.9975, Validation Acc: 0.7402\n",
      "Epoch 64, CIFAR-10 Batch 2:  Loss: 0.0222 , Training Acc: 0.9938, Validation Acc: 0.7446\n",
      "Epoch 64, CIFAR-10 Batch 3:  Loss: 0.0229 , Training Acc: 0.9963, Validation Acc: 0.7458\n",
      "Epoch 64, CIFAR-10 Batch 4:  Loss: 0.0169 , Training Acc: 0.9975, Validation Acc: 0.7356\n",
      "Epoch 64, CIFAR-10 Batch 5:  Loss: 0.0093 , Training Acc: 0.9988, Validation Acc: 0.7462\n",
      "Epoch 65, CIFAR-10 Batch 1:  Loss: 0.0102 , Training Acc: 0.9988, Validation Acc: 0.7434\n",
      "Epoch 65, CIFAR-10 Batch 2:  Loss: 0.0109 , Training Acc: 0.9988, Validation Acc: 0.7436\n",
      "Epoch 65, CIFAR-10 Batch 3:  Loss: 0.0176 , Training Acc: 0.9975, Validation Acc: 0.7468\n",
      "Epoch 65, CIFAR-10 Batch 4:  Loss: 0.0185 , Training Acc: 0.9963, Validation Acc: 0.7436\n",
      "Epoch 65, CIFAR-10 Batch 5:  Loss: 0.0151 , Training Acc: 0.9963, Validation Acc: 0.7468\n",
      "Epoch 66, CIFAR-10 Batch 1:  Loss: 0.0087 , Training Acc: 1.0000, Validation Acc: 0.7472\n",
      "Epoch 66, CIFAR-10 Batch 2:  Loss: 0.0161 , Training Acc: 0.9975, Validation Acc: 0.7454\n",
      "Epoch 66, CIFAR-10 Batch 3:  Loss: 0.0243 , Training Acc: 0.9926, Validation Acc: 0.7346\n",
      "Epoch 66, CIFAR-10 Batch 4:  Loss: 0.0070 , Training Acc: 1.0000, Validation Acc: 0.7448\n",
      "Epoch 66, CIFAR-10 Batch 5:  Loss: 0.0099 , Training Acc: 0.9988, Validation Acc: 0.7468\n",
      "Epoch 67, CIFAR-10 Batch 1:  Loss: 0.0150 , Training Acc: 0.9950, Validation Acc: 0.7490\n",
      "Epoch 67, CIFAR-10 Batch 2:  Loss: 0.0063 , Training Acc: 0.9988, Validation Acc: 0.7504\n",
      "Epoch 67, CIFAR-10 Batch 3:  Loss: 0.0150 , Training Acc: 0.9950, Validation Acc: 0.7428\n",
      "Epoch 67, CIFAR-10 Batch 4:  Loss: 0.0106 , Training Acc: 0.9950, Validation Acc: 0.7494\n",
      "Epoch 67, CIFAR-10 Batch 5:  Loss: 0.0058 , Training Acc: 0.9988, Validation Acc: 0.7454\n",
      "Epoch 68, CIFAR-10 Batch 1:  Loss: 0.0096 , Training Acc: 0.9988, Validation Acc: 0.7518\n",
      "Epoch 68, CIFAR-10 Batch 2:  Loss: 0.0091 , Training Acc: 0.9975, Validation Acc: 0.7504\n",
      "Epoch 68, CIFAR-10 Batch 3:  Loss: 0.0049 , Training Acc: 1.0000, Validation Acc: 0.7494\n",
      "Epoch 68, CIFAR-10 Batch 4:  Loss: 0.0086 , Training Acc: 0.9975, Validation Acc: 0.7522\n",
      "Epoch 68, CIFAR-10 Batch 5:  Loss: 0.0031 , Training Acc: 1.0000, Validation Acc: 0.7544\n",
      "Epoch 69, CIFAR-10 Batch 1:  Loss: 0.0079 , Training Acc: 0.9988, Validation Acc: 0.7452\n",
      "Epoch 69, CIFAR-10 Batch 2:  Loss: 0.0087 , Training Acc: 0.9975, Validation Acc: 0.7486\n",
      "Epoch 69, CIFAR-10 Batch 3:  Loss: 0.0113 , Training Acc: 0.9950, Validation Acc: 0.7442\n",
      "Epoch 69, CIFAR-10 Batch 4:  Loss: 0.0046 , Training Acc: 0.9988, Validation Acc: 0.7566\n",
      "Epoch 69, CIFAR-10 Batch 5:  Loss: 0.0064 , Training Acc: 0.9975, Validation Acc: 0.7484\n",
      "Epoch 70, CIFAR-10 Batch 1:  Loss: 0.0027 , Training Acc: 1.0000, Validation Acc: 0.7470\n",
      "Epoch 70, CIFAR-10 Batch 2:  Loss: 0.0027 , Training Acc: 1.0000, Validation Acc: 0.7504\n",
      "Epoch 70, CIFAR-10 Batch 3:  Loss: 0.0027 , Training Acc: 1.0000, Validation Acc: 0.7498\n",
      "Epoch 70, CIFAR-10 Batch 4:  Loss: 0.0080 , Training Acc: 0.9975, Validation Acc: 0.7488\n",
      "Epoch 70, CIFAR-10 Batch 5:  Loss: 0.0050 , Training Acc: 1.0000, Validation Acc: 0.7536\n",
      "Epoch 71, CIFAR-10 Batch 1:  Loss: 0.0053 , Training Acc: 0.9988, Validation Acc: 0.7386\n",
      "Epoch 71, CIFAR-10 Batch 2:  Loss: 0.0078 , Training Acc: 0.9988, Validation Acc: 0.7464\n",
      "Epoch 71, CIFAR-10 Batch 3:  Loss: 0.0052 , Training Acc: 1.0000, Validation Acc: 0.7402\n",
      "Epoch 71, CIFAR-10 Batch 4:  Loss: 0.0026 , Training Acc: 1.0000, Validation Acc: 0.7418\n",
      "Epoch 71, CIFAR-10 Batch 5:  Loss: 0.0144 , Training Acc: 0.9975, Validation Acc: 0.7508\n",
      "Epoch 72, CIFAR-10 Batch 1:  Loss: 0.0067 , Training Acc: 0.9988, Validation Acc: 0.7448\n",
      "Epoch 72, CIFAR-10 Batch 2:  Loss: 0.0054 , Training Acc: 0.9988, Validation Acc: 0.7434\n",
      "Epoch 72, CIFAR-10 Batch 3:  Loss: 0.0114 , Training Acc: 0.9950, Validation Acc: 0.7432\n",
      "Epoch 72, CIFAR-10 Batch 4:  Loss: 0.0031 , Training Acc: 1.0000, Validation Acc: 0.7466\n",
      "Epoch 72, CIFAR-10 Batch 5:  Loss: 0.0119 , Training Acc: 0.9975, Validation Acc: 0.7454\n",
      "Epoch 73, CIFAR-10 Batch 1:  Loss: 0.0053 , Training Acc: 1.0000, Validation Acc: 0.7444\n",
      "Epoch 73, CIFAR-10 Batch 2:  Loss: 0.0161 , Training Acc: 0.9963, Validation Acc: 0.7402\n",
      "Epoch 73, CIFAR-10 Batch 3:  Loss: 0.0128 , Training Acc: 0.9975, Validation Acc: 0.7426\n",
      "Epoch 73, CIFAR-10 Batch 4:  Loss: 0.0034 , Training Acc: 1.0000, Validation Acc: 0.7512\n",
      "Epoch 73, CIFAR-10 Batch 5:  Loss: 0.0065 , Training Acc: 0.9975, Validation Acc: 0.7496\n",
      "Epoch 74, CIFAR-10 Batch 1:  Loss: 0.0062 , Training Acc: 1.0000, Validation Acc: 0.7456\n",
      "Epoch 74, CIFAR-10 Batch 2:  Loss: 0.0057 , Training Acc: 0.9975, Validation Acc: 0.7474\n",
      "Epoch 74, CIFAR-10 Batch 3:  Loss: 0.0056 , Training Acc: 0.9988, Validation Acc: 0.7458\n",
      "Epoch 74, CIFAR-10 Batch 4:  Loss: 0.0071 , Training Acc: 0.9975, Validation Acc: 0.7402\n",
      "Epoch 74, CIFAR-10 Batch 5:  Loss: 0.0056 , Training Acc: 1.0000, Validation Acc: 0.7454\n",
      "Epoch 75, CIFAR-10 Batch 1:  Loss: 0.0108 , Training Acc: 0.9950, Validation Acc: 0.7366\n",
      "Epoch 75, CIFAR-10 Batch 2:  Loss: 0.0088 , Training Acc: 0.9988, Validation Acc: 0.7440\n",
      "Epoch 75, CIFAR-10 Batch 3:  Loss: 0.0099 , Training Acc: 0.9988, Validation Acc: 0.7456\n",
      "Epoch 75, CIFAR-10 Batch 4:  Loss: 0.0046 , Training Acc: 1.0000, Validation Acc: 0.7452\n",
      "Epoch 75, CIFAR-10 Batch 5:  Loss: 0.0032 , Training Acc: 1.0000, Validation Acc: 0.7476\n",
      "Epoch 76, CIFAR-10 Batch 1:  Loss: 0.0057 , Training Acc: 1.0000, Validation Acc: 0.7410\n",
      "Epoch 76, CIFAR-10 Batch 2:  Loss: 0.0068 , Training Acc: 0.9988, Validation Acc: 0.7434\n",
      "Epoch 76, CIFAR-10 Batch 3:  Loss: 0.0060 , Training Acc: 0.9988, Validation Acc: 0.7382\n",
      "Epoch 76, CIFAR-10 Batch 4:  Loss: 0.0052 , Training Acc: 0.9988, Validation Acc: 0.7536\n",
      "Epoch 76, CIFAR-10 Batch 5:  Loss: 0.0106 , Training Acc: 0.9975, Validation Acc: 0.7346\n",
      "Epoch 77, CIFAR-10 Batch 1:  Loss: 0.0082 , Training Acc: 0.9988, Validation Acc: 0.7354\n",
      "Epoch 77, CIFAR-10 Batch 2:  Loss: 0.0079 , Training Acc: 0.9988, Validation Acc: 0.7364\n",
      "Epoch 77, CIFAR-10 Batch 3:  Loss: 0.0124 , Training Acc: 0.9975, Validation Acc: 0.7440\n",
      "Epoch 77, CIFAR-10 Batch 4:  Loss: 0.0083 , Training Acc: 0.9963, Validation Acc: 0.7416\n",
      "Epoch 77, CIFAR-10 Batch 5:  Loss: 0.0061 , Training Acc: 0.9988, Validation Acc: 0.7464\n",
      "Epoch 78, CIFAR-10 Batch 1:  Loss: 0.0049 , Training Acc: 0.9988, Validation Acc: 0.7426\n",
      "Epoch 78, CIFAR-10 Batch 2:  Loss: 0.0028 , Training Acc: 0.9988, Validation Acc: 0.7446\n",
      "Epoch 78, CIFAR-10 Batch 3:  Loss: 0.0037 , Training Acc: 1.0000, Validation Acc: 0.7318\n",
      "Epoch 78, CIFAR-10 Batch 4:  Loss: 0.0042 , Training Acc: 1.0000, Validation Acc: 0.7518\n",
      "Epoch 78, CIFAR-10 Batch 5:  Loss: 0.0055 , Training Acc: 0.9988, Validation Acc: 0.7546\n",
      "Epoch 79, CIFAR-10 Batch 1:  Loss: 0.0034 , Training Acc: 1.0000, Validation Acc: 0.7426\n",
      "Epoch 79, CIFAR-10 Batch 2:  Loss: 0.0050 , Training Acc: 0.9988, Validation Acc: 0.7338\n",
      "Epoch 79, CIFAR-10 Batch 3:  Loss: 0.0078 , Training Acc: 0.9975, Validation Acc: 0.7432\n",
      "Epoch 79, CIFAR-10 Batch 4:  Loss: 0.0078 , Training Acc: 0.9975, Validation Acc: 0.7462\n",
      "Epoch 79, CIFAR-10 Batch 5:  Loss: 0.0046 , Training Acc: 0.9988, Validation Acc: 0.7538\n",
      "Epoch 80, CIFAR-10 Batch 1:  Loss: 0.0045 , Training Acc: 1.0000, Validation Acc: 0.7380\n",
      "Epoch 80, CIFAR-10 Batch 2:  Loss: 0.0079 , Training Acc: 0.9988, Validation Acc: 0.7432\n",
      "Epoch 80, CIFAR-10 Batch 3:  Loss: 0.0201 , Training Acc: 0.9950, Validation Acc: 0.7358\n",
      "Epoch 80, CIFAR-10 Batch 4:  Loss: 0.0056 , Training Acc: 0.9975, Validation Acc: 0.7392\n",
      "Epoch 80, CIFAR-10 Batch 5:  Loss: 0.0039 , Training Acc: 1.0000, Validation Acc: 0.7492\n",
      "Epoch 81, CIFAR-10 Batch 1:  Loss: 0.0059 , Training Acc: 0.9988, Validation Acc: 0.7394\n",
      "Epoch 81, CIFAR-10 Batch 2:  Loss: 0.0091 , Training Acc: 0.9975, Validation Acc: 0.7476\n",
      "Epoch 81, CIFAR-10 Batch 3:  Loss: 0.0088 , Training Acc: 0.9975, Validation Acc: 0.7362\n",
      "Epoch 81, CIFAR-10 Batch 4:  Loss: 0.0252 , Training Acc: 0.9950, Validation Acc: 0.7380\n",
      "Epoch 81, CIFAR-10 Batch 5:  Loss: 0.0110 , Training Acc: 0.9975, Validation Acc: 0.7424\n",
      "Epoch 82, CIFAR-10 Batch 1:  Loss: 0.0170 , Training Acc: 0.9975, Validation Acc: 0.7342\n",
      "Epoch 82, CIFAR-10 Batch 2:  Loss: 0.0071 , Training Acc: 0.9988, Validation Acc: 0.7370\n",
      "Epoch 82, CIFAR-10 Batch 3:  Loss: 0.0093 , Training Acc: 0.9975, Validation Acc: 0.7362\n",
      "Epoch 82, CIFAR-10 Batch 4:  Loss: 0.0051 , Training Acc: 1.0000, Validation Acc: 0.7514\n",
      "Epoch 82, CIFAR-10 Batch 5:  Loss: 0.0038 , Training Acc: 1.0000, Validation Acc: 0.7446\n",
      "Epoch 83, CIFAR-10 Batch 1:  Loss: 0.0042 , Training Acc: 1.0000, Validation Acc: 0.7456\n",
      "Epoch 83, CIFAR-10 Batch 2:  Loss: 0.0150 , Training Acc: 0.9963, Validation Acc: 0.7420\n",
      "Epoch 83, CIFAR-10 Batch 3:  Loss: 0.0062 , Training Acc: 0.9988, Validation Acc: 0.7474\n",
      "Epoch 83, CIFAR-10 Batch 4:  Loss: 0.0130 , Training Acc: 0.9950, Validation Acc: 0.7464\n",
      "Epoch 83, CIFAR-10 Batch 5:  Loss: 0.0078 , Training Acc: 1.0000, Validation Acc: 0.7478\n",
      "Epoch 84, CIFAR-10 Batch 1:  Loss: 0.0059 , Training Acc: 0.9988, Validation Acc: 0.7444\n",
      "Epoch 84, CIFAR-10 Batch 2:  Loss: 0.0055 , Training Acc: 0.9988, Validation Acc: 0.7484\n",
      "Epoch 84, CIFAR-10 Batch 3:  Loss: 0.0208 , Training Acc: 0.9950, Validation Acc: 0.7390\n",
      "Epoch 84, CIFAR-10 Batch 4:  Loss: 0.0037 , Training Acc: 1.0000, Validation Acc: 0.7396\n",
      "Epoch 84, CIFAR-10 Batch 5:  Loss: 0.0048 , Training Acc: 0.9988, Validation Acc: 0.7464\n",
      "Epoch 85, CIFAR-10 Batch 1:  Loss: 0.0109 , Training Acc: 0.9988, Validation Acc: 0.7460\n",
      "Epoch 85, CIFAR-10 Batch 2:  Loss: 0.0040 , Training Acc: 1.0000, Validation Acc: 0.7488\n",
      "Epoch 85, CIFAR-10 Batch 3:  Loss: 0.0066 , Training Acc: 1.0000, Validation Acc: 0.7390\n",
      "Epoch 85, CIFAR-10 Batch 4:  Loss: 0.0065 , Training Acc: 0.9988, Validation Acc: 0.7434\n",
      "Epoch 85, CIFAR-10 Batch 5:  Loss: 0.0023 , Training Acc: 1.0000, Validation Acc: 0.7410\n",
      "Epoch 86, CIFAR-10 Batch 1:  Loss: 0.0066 , Training Acc: 0.9975, Validation Acc: 0.7364\n",
      "Epoch 86, CIFAR-10 Batch 2:  Loss: 0.0045 , Training Acc: 1.0000, Validation Acc: 0.7408\n",
      "Epoch 86, CIFAR-10 Batch 3:  Loss: 0.0114 , Training Acc: 0.9975, Validation Acc: 0.7428\n",
      "Epoch 86, CIFAR-10 Batch 4:  Loss: 0.0069 , Training Acc: 0.9988, Validation Acc: 0.7432\n",
      "Epoch 86, CIFAR-10 Batch 5:  Loss: 0.0092 , Training Acc: 0.9963, Validation Acc: 0.7536\n",
      "Epoch 87, CIFAR-10 Batch 1:  Loss: 0.0244 , Training Acc: 0.9926, Validation Acc: 0.7382\n",
      "Epoch 87, CIFAR-10 Batch 2:  Loss: 0.0100 , Training Acc: 0.9963, Validation Acc: 0.7402\n",
      "Epoch 87, CIFAR-10 Batch 3:  Loss: 0.0142 , Training Acc: 0.9963, Validation Acc: 0.7282\n",
      "Epoch 87, CIFAR-10 Batch 4:  Loss: 0.0102 , Training Acc: 0.9963, Validation Acc: 0.7362\n",
      "Epoch 87, CIFAR-10 Batch 5:  Loss: 0.0096 , Training Acc: 0.9963, Validation Acc: 0.7402\n",
      "Epoch 88, CIFAR-10 Batch 1:  Loss: 0.0126 , Training Acc: 0.9963, Validation Acc: 0.7438\n",
      "Epoch 88, CIFAR-10 Batch 2:  Loss: 0.0083 , Training Acc: 1.0000, Validation Acc: 0.7450\n",
      "Epoch 88, CIFAR-10 Batch 3:  Loss: 0.0106 , Training Acc: 0.9975, Validation Acc: 0.7426\n",
      "Epoch 88, CIFAR-10 Batch 4:  Loss: 0.0051 , Training Acc: 0.9988, Validation Acc: 0.7416\n",
      "Epoch 88, CIFAR-10 Batch 5:  Loss: 0.0069 , Training Acc: 0.9988, Validation Acc: 0.7422\n",
      "Epoch 89, CIFAR-10 Batch 1:  Loss: 0.0044 , Training Acc: 1.0000, Validation Acc: 0.7430\n",
      "Epoch 89, CIFAR-10 Batch 2:  Loss: 0.0048 , Training Acc: 1.0000, Validation Acc: 0.7500\n",
      "Epoch 89, CIFAR-10 Batch 3:  Loss: 0.0081 , Training Acc: 0.9988, Validation Acc: 0.7456\n",
      "Epoch 89, CIFAR-10 Batch 4:  Loss: 0.0054 , Training Acc: 1.0000, Validation Acc: 0.7428\n",
      "Epoch 89, CIFAR-10 Batch 5:  Loss: 0.0021 , Training Acc: 1.0000, Validation Acc: 0.7374\n",
      "Epoch 90, CIFAR-10 Batch 1:  Loss: 0.0029 , Training Acc: 1.0000, Validation Acc: 0.7366\n",
      "Epoch 90, CIFAR-10 Batch 2:  Loss: 0.0081 , Training Acc: 1.0000, Validation Acc: 0.7416\n",
      "Epoch 90, CIFAR-10 Batch 3:  Loss: 0.0037 , Training Acc: 1.0000, Validation Acc: 0.7496\n",
      "Epoch 90, CIFAR-10 Batch 4:  Loss: 0.0040 , Training Acc: 1.0000, Validation Acc: 0.7416\n",
      "Epoch 90, CIFAR-10 Batch 5:  Loss: 0.0042 , Training Acc: 1.0000, Validation Acc: 0.7370\n",
      "Epoch 91, CIFAR-10 Batch 1:  Loss: 0.0014 , Training Acc: 1.0000, Validation Acc: 0.7494\n",
      "Epoch 91, CIFAR-10 Batch 2:  Loss: 0.0046 , Training Acc: 1.0000, Validation Acc: 0.7474\n",
      "Epoch 91, CIFAR-10 Batch 3:  Loss: 0.0035 , Training Acc: 1.0000, Validation Acc: 0.7438\n",
      "Epoch 91, CIFAR-10 Batch 4:  Loss: 0.0060 , Training Acc: 0.9975, Validation Acc: 0.7400\n",
      "Epoch 91, CIFAR-10 Batch 5:  Loss: 0.0020 , Training Acc: 1.0000, Validation Acc: 0.7554\n",
      "Epoch 92, CIFAR-10 Batch 1:  Loss: 0.0062 , Training Acc: 0.9988, Validation Acc: 0.7498\n",
      "Epoch 92, CIFAR-10 Batch 2:  Loss: 0.0070 , Training Acc: 0.9975, Validation Acc: 0.7460\n",
      "Epoch 92, CIFAR-10 Batch 3:  Loss: 0.0052 , Training Acc: 0.9988, Validation Acc: 0.7406\n",
      "Epoch 92, CIFAR-10 Batch 4:  Loss: 0.0058 , Training Acc: 0.9975, Validation Acc: 0.7412\n",
      "Epoch 92, CIFAR-10 Batch 5:  Loss: 0.0053 , Training Acc: 0.9988, Validation Acc: 0.7412\n",
      "Epoch 93, CIFAR-10 Batch 1:  Loss: 0.0043 , Training Acc: 1.0000, Validation Acc: 0.7464\n",
      "Epoch 93, CIFAR-10 Batch 2:  Loss: 0.0065 , Training Acc: 0.9988, Validation Acc: 0.7504\n",
      "Epoch 93, CIFAR-10 Batch 3:  Loss: 0.0046 , Training Acc: 1.0000, Validation Acc: 0.7436\n",
      "Epoch 93, CIFAR-10 Batch 4:  Loss: 0.0059 , Training Acc: 0.9975, Validation Acc: 0.7290\n",
      "Epoch 93, CIFAR-10 Batch 5:  Loss: 0.0027 , Training Acc: 1.0000, Validation Acc: 0.7402\n",
      "Epoch 94, CIFAR-10 Batch 1:  Loss: 0.0074 , Training Acc: 0.9975, Validation Acc: 0.7410\n",
      "Epoch 94, CIFAR-10 Batch 2:  Loss: 0.0060 , Training Acc: 0.9988, Validation Acc: 0.7362\n",
      "Epoch 94, CIFAR-10 Batch 3:  Loss: 0.0136 , Training Acc: 0.9975, Validation Acc: 0.7356\n",
      "Epoch 94, CIFAR-10 Batch 4:  Loss: 0.0058 , Training Acc: 0.9988, Validation Acc: 0.7452\n",
      "Epoch 94, CIFAR-10 Batch 5:  Loss: 0.0098 , Training Acc: 0.9988, Validation Acc: 0.7446\n",
      "Epoch 95, CIFAR-10 Batch 1:  Loss: 0.0040 , Training Acc: 1.0000, Validation Acc: 0.7450\n",
      "Epoch 95, CIFAR-10 Batch 2:  Loss: 0.0098 , Training Acc: 0.9975, Validation Acc: 0.7444\n",
      "Epoch 95, CIFAR-10 Batch 3:  Loss: 0.0155 , Training Acc: 0.9975, Validation Acc: 0.7304\n",
      "Epoch 95, CIFAR-10 Batch 4:  Loss: 0.0115 , Training Acc: 0.9975, Validation Acc: 0.7378\n",
      "Epoch 95, CIFAR-10 Batch 5:  Loss: 0.0072 , Training Acc: 1.0000, Validation Acc: 0.7352\n",
      "Epoch 96, CIFAR-10 Batch 1:  Loss: 0.0045 , Training Acc: 1.0000, Validation Acc: 0.7444\n",
      "Epoch 96, CIFAR-10 Batch 2:  Loss: 0.0065 , Training Acc: 0.9988, Validation Acc: 0.7460\n",
      "Epoch 96, CIFAR-10 Batch 3:  Loss: 0.0068 , Training Acc: 0.9988, Validation Acc: 0.7392\n",
      "Epoch 96, CIFAR-10 Batch 4:  Loss: 0.0093 , Training Acc: 0.9975, Validation Acc: 0.7326\n",
      "Epoch 96, CIFAR-10 Batch 5:  Loss: 0.0165 , Training Acc: 0.9963, Validation Acc: 0.7410\n",
      "Epoch 97, CIFAR-10 Batch 1:  Loss: 0.0076 , Training Acc: 0.9988, Validation Acc: 0.7406\n",
      "Epoch 97, CIFAR-10 Batch 2:  Loss: 0.0106 , Training Acc: 0.9963, Validation Acc: 0.7472\n",
      "Epoch 97, CIFAR-10 Batch 3:  Loss: 0.0139 , Training Acc: 0.9975, Validation Acc: 0.7306\n",
      "Epoch 97, CIFAR-10 Batch 4:  Loss: 0.0052 , Training Acc: 1.0000, Validation Acc: 0.7366\n",
      "Epoch 97, CIFAR-10 Batch 5:  Loss: 0.0078 , Training Acc: 0.9988, Validation Acc: 0.7436\n",
      "Epoch 98, CIFAR-10 Batch 1:  Loss: 0.0060 , Training Acc: 0.9988, Validation Acc: 0.7490\n",
      "Epoch 98, CIFAR-10 Batch 2:  Loss: 0.0110 , Training Acc: 0.9988, Validation Acc: 0.7370\n",
      "Epoch 98, CIFAR-10 Batch 3:  Loss: 0.0309 , Training Acc: 0.9926, Validation Acc: 0.7390\n",
      "Epoch 98, CIFAR-10 Batch 4:  Loss: 0.0151 , Training Acc: 0.9975, Validation Acc: 0.7290\n",
      "Epoch 98, CIFAR-10 Batch 5:  Loss: 0.0067 , Training Acc: 0.9988, Validation Acc: 0.7398\n",
      "Epoch 99, CIFAR-10 Batch 1:  Loss: 0.0134 , Training Acc: 0.9975, Validation Acc: 0.7378\n",
      "Epoch 99, CIFAR-10 Batch 2:  Loss: 0.0107 , Training Acc: 0.9963, Validation Acc: 0.7444\n",
      "Epoch 99, CIFAR-10 Batch 3:  Loss: 0.0126 , Training Acc: 0.9963, Validation Acc: 0.7406\n",
      "Epoch 99, CIFAR-10 Batch 4:  Loss: 0.0090 , Training Acc: 0.9975, Validation Acc: 0.7388\n",
      "Epoch 99, CIFAR-10 Batch 5:  Loss: 0.0080 , Training Acc: 0.9988, Validation Acc: 0.7412\n",
      "Epoch 100, CIFAR-10 Batch 1:  Loss: 0.0026 , Training Acc: 1.0000, Validation Acc: 0.7354\n",
      "Epoch 100, CIFAR-10 Batch 2:  Loss: 0.0051 , Training Acc: 0.9988, Validation Acc: 0.7480\n",
      "Epoch 100, CIFAR-10 Batch 3:  Loss: 0.0089 , Training Acc: 0.9963, Validation Acc: 0.7440\n",
      "Epoch 100, CIFAR-10 Batch 4:  Loss: 0.0069 , Training Acc: 0.9975, Validation Acc: 0.7374\n",
      "Epoch 100, CIFAR-10 Batch 5:  Loss: 0.0025 , Training Acc: 1.0000, Validation Acc: 0.7424\n"
     ]
    }
   ],
   "source": [
    "\"\"\"\n",
    "DON'T MODIFY ANYTHING IN THIS CELL\n",
    "\"\"\"\n",
    "save_model_path = './image_classification'\n",
    "\n",
    "print('Training...')\n",
    "with tf.Session() as sess:\n",
    "    # Initializing the variables\n",
    "    sess.run(tf.global_variables_initializer())\n",
    "    \n",
    "    # Training cycle\n",
    "    for epoch in range(epochs):\n",
    "        # Loop over all batches\n",
    "        n_batches = 5\n",
    "        for batch_i in range(1, n_batches + 1):\n",
    "            for batch_features, batch_labels in helper.load_preprocess_training_batch(batch_i, batch_size):\n",
    "                train_neural_network(sess, optimizer, keep_probability, batch_features, batch_labels)\n",
    "            print('Epoch {:>2}, CIFAR-10 Batch {}:  '.format(epoch + 1, batch_i), end='')\n",
    "            print_stats(sess, batch_features, batch_labels, cost, accuracy)\n",
    "            \n",
    "    # Save Model\n",
    "    saver = tf.train.Saver()\n",
    "    save_path = saver.save(sess, save_model_path)"
   ]
  },
  {
   "cell_type": "markdown",
   "metadata": {
    "deletable": true,
    "editable": true
   },
   "source": [
    "# Checkpoint\n",
    "The model has been saved to disk.\n",
    "## Test Model\n",
    "Test your model against the test dataset.  This will be your final accuracy. You should have an accuracy greater than 50%. If you don't, keep tweaking the model architecture and parameters."
   ]
  },
  {
   "cell_type": "code",
   "execution_count": 21,
   "metadata": {
    "collapsed": false,
    "deletable": true,
    "editable": true
   },
   "outputs": [
    {
     "name": "stdout",
     "output_type": "stream",
     "text": [
      "Testing Accuracy: 0.732114952802658\n",
      "\n"
     ]
    },
    {
     "data": {
      "image/png": "[encoded data removed]",
      "text/plain": [
       "<matplotlib.figure.Figure at 0x7f85047c7d30>"
      ]
     },
     "metadata": {
      "image/png": {
       "height": 319,
       "width": 355
      }
     },
     "output_type": "display_data"
    }
   ],
   "source": [
    "\"\"\"\n",
    "DON'T MODIFY ANYTHING IN THIS CELL\n",
    "\"\"\"\n",
    "%matplotlib inline\n",
    "%config InlineBackend.figure_format = 'retina'\n",
    "\n",
    "import tensorflow as tf\n",
    "import pickle\n",
    "import helper\n",
    "import random\n",
    "\n",
    "# Set batch size if not already set\n",
    "try:\n",
    "    if batch_size:\n",
    "        pass\n",
    "except NameError:\n",
    "    batch_size = 64\n",
    "\n",
    "save_model_path = './image_classification'\n",
    "n_samples = 4\n",
    "top_n_predictions = 3\n",
    "\n",
    "def test_model():\n",
    "    \"\"\"\n",
    "    Test the saved model against the test dataset\n",
    "    \"\"\"\n",
    "\n",
    "    test_features, test_labels = pickle.load(open('preprocess_test.p', mode='rb'))\n",
    "    loaded_graph = tf.Graph()\n",
    "\n",
    "    with tf.Session(graph=loaded_graph) as sess:\n",
    "        # Load model\n",
    "        loader = tf.train.import_meta_graph(save_model_path + '.meta')\n",
    "        loader.restore(sess, save_model_path)\n",
    "\n",
    "        # Get Tensors from loaded model\n",
    "        loaded_x = loaded_graph.get_tensor_by_name('x:0')\n",
    "        loaded_y = loaded_graph.get_tensor_by_name('y:0')\n",
    "        loaded_keep_prob = loaded_graph.get_tensor_by_name('keep_prob:0')\n",
    "        loaded_logits = loaded_graph.get_tensor_by_name('logits:0')\n",
    "        loaded_acc = loaded_graph.get_tensor_by_name('accuracy:0')\n",
    "        \n",
    "        # Get accuracy in batches for memory limitations\n",
    "        test_batch_acc_total = 0\n",
    "        test_batch_count = 0\n",
    "        \n",
    "        for test_feature_batch, test_label_batch in helper.batch_features_labels(test_features, test_labels, batch_size):\n",
    "            test_batch_acc_total += sess.run(\n",
    "                loaded_acc,\n",
    "                feed_dict={loaded_x: test_feature_batch, loaded_y: test_label_batch, loaded_keep_prob: 1.0})\n",
    "            test_batch_count += 1\n",
    "\n",
    "        print('Testing Accuracy: {}\\n'.format(test_batch_acc_total/test_batch_count))\n",
    "\n",
    "        # Print Random Samples\n",
    "        random_test_features, random_test_labels = tuple(zip(*random.sample(list(zip(test_features, test_labels)), n_samples)))\n",
    "        random_test_predictions = sess.run(\n",
    "            tf.nn.top_k(tf.nn.softmax(loaded_logits), top_n_predictions),\n",
    "            feed_dict={loaded_x: random_test_features, loaded_y: random_test_labels, loaded_keep_prob: 1.0})\n",
    "        helper.display_image_predictions(random_test_features, random_test_labels, random_test_predictions)\n",
    "\n",
    "\n",
    "test_model()"
   ]
  },
  {
   "cell_type": "markdown",
   "metadata": {
    "deletable": true,
    "editable": true
   },
   "source": [
    "## Why 50-80% Accuracy?\n",
    "You might be wondering why you can't get an accuracy any higher. First things first, 50% isn't bad for a simple CNN.  Pure guessing would get you 10% accuracy. However, you might notice people are getting scores [well above 80%](http://rodrigob.github.io/are_we_there_yet/build/classification_datasets_results.html#43494641522d3130).  That's because we haven't taught you all there is to know about neural networks. We still need to cover a few more techniques.\n",
    "## Submitting This Project\n",
    "When submitting this project, make sure to run all the cells before saving the notebook.  Save the notebook file as \"dlnd_image_classification.ipynb\" and save it as a HTML file under \"File\" -> \"Download as\".  Include the \"helper.py\" and \"problem_unittests.py\" files in your submission."
   ]
  }
 ],
 "metadata": {
  "kernelspec": {
   "display_name": "Python 3",
   "language": "python",
   "name": "python3"
  },
  "language_info": {
   "codemirror_mode": {
    "name": "ipython",
    "version": 3
   },
   "file_extension": ".py",
   "mimetype": "text/x-python",
   "name": "python",
   "nbconvert_exporter": "python",
   "pygments_lexer": "ipython3",
   "version": "3.5.3"
  }
 },
 "nbformat": 4,
 "nbformat_minor": 1
}
